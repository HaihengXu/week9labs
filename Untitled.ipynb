{
 "cells": [
  {
   "cell_type": "markdown",
   "id": "20dbe925-cd78-45aa-823c-e48b62d56724",
   "metadata": {},
   "source": [
    "# Week 9 Instructor-led lab: Statistics in Python\n",
    "\n",
    "Author: Haiheng Xu  \n",
    "Course: BGEN632 Grad. Intro. to Python  \n",
    "Term: Spring 2025  \n",
    "Date: April 24, 2025 "
   ]
  },
  {
   "cell_type": "markdown",
   "id": "42670f94-b3ee-4ecf-afb4-7eae1297c8d6",
   "metadata": {},
   "source": [
    "## Notebook Setup"
   ]
  },
  {
   "cell_type": "code",
   "execution_count": 45,
   "id": "bd9f4052-97d4-4925-af41-b73e10580918",
   "metadata": {},
   "outputs": [],
   "source": [
    "# load modules\n",
    "import os\n",
    "import pandas as pd\n",
    "import numpy as np\n",
    "import matplotlib.pyplot as plt\n",
    "import scipy.stats as sts # for QQ plot\n",
    "from scipy.stats import pearsonr # correlation p-values\n",
    "from sklearn.linear_model import LinearRegression # regression output\n",
    "import statsmodels.formula.api as smf # ols regression"
   ]
  },
  {
   "cell_type": "code",
   "execution_count": 47,
   "id": "f4155fe7-ce67-43d1-addc-cd8c67c8c84a",
   "metadata": {},
   "outputs": [
    {
     "name": "stderr",
     "output_type": "stream",
     "text": [
      "<>:2: SyntaxWarning: invalid escape sequence '\\d'\n",
      "<>:2: SyntaxWarning: invalid escape sequence '\\d'\n",
      "C:\\Users\\haihe\\AppData\\Local\\Temp\\ipykernel_10560\\932231355.py:2: SyntaxWarning: invalid escape sequence '\\d'\n",
      "  os.chdir(\"C:\\\\Users\\\\haihe\\\\Desktop\\\\Classes\\\\Intro to Python\\\\week9labs\\data\")  # change this to your filepath\n"
     ]
    },
    {
     "data": {
      "text/plain": [
       "'C:\\\\Users\\\\haihe\\\\Desktop\\\\Classes\\\\Intro to Python\\\\week9labs\\\\data'"
      ]
     },
     "execution_count": 47,
     "metadata": {},
     "output_type": "execute_result"
    }
   ],
   "source": [
    "# set working directory\n",
    "os.chdir(\"C:\\\\Users\\\\haihe\\\\Desktop\\\\Classes\\\\Intro to Python\\\\week9labs\\data\")  # change this to your filepath\n",
    "os.getcwd()  # confirm change"
   ]
  },
  {
   "cell_type": "code",
   "execution_count": 49,
   "id": "de850a0b-c5cc-412e-8dd0-20a0f1e61128",
   "metadata": {},
   "outputs": [
    {
     "name": "stdout",
     "output_type": "stream",
     "text": [
      "<class 'pandas.core.frame.DataFrame'>\n",
      "RangeIndex: 64 entries, 0 to 63\n",
      "Data columns (total 12 columns):\n",
      " #   Column         Non-Null Count  Dtype \n",
      "---  ------         --------------  ----- \n",
      " 0   HospitalID     64 non-null     int64 \n",
      " 1   Work_ID        64 non-null     int64 \n",
      " 2   LastName       64 non-null     object\n",
      " 3   FirstName      64 non-null     object\n",
      " 4   Gender         64 non-null     object\n",
      " 5   PositionID     64 non-null     int64 \n",
      " 6   PositionTitle  64 non-null     object\n",
      " 7   Compensation   64 non-null     int64 \n",
      " 8   MaxTerm        64 non-null     int64 \n",
      " 9   StartDate      64 non-null     object\n",
      " 10  Phone          64 non-null     object\n",
      " 11  Email          64 non-null     object\n",
      "dtypes: int64(5), object(7)\n",
      "memory usage: 6.1+ KB\n",
      "<class 'pandas.core.frame.DataFrame'>\n",
      "RangeIndex: 61 entries, 0 to 60\n",
      "Data columns (total 14 columns):\n",
      " #   Column       Non-Null Count  Dtype  \n",
      "---  ------       --------------  -----  \n",
      " 0   HospitalID   61 non-null     int64  \n",
      " 1   Name         61 non-null     object \n",
      " 2   Zip          61 non-null     object \n",
      " 3   Website      61 non-null     object \n",
      " 4   TypeControl  61 non-null     object \n",
      " 5   Teaching     61 non-null     object \n",
      " 6   DonorType    61 non-null     object \n",
      " 7   NoFTE        61 non-null     float64\n",
      " 8   NetPatRev    61 non-null     float64\n",
      " 9   InOperExp    61 non-null     float64\n",
      " 10  OutOperExp   61 non-null     float64\n",
      " 11  OperRev      61 non-null     int64  \n",
      " 12  OperInc      61 non-null     int64  \n",
      " 13  AvlBeds      61 non-null     int64  \n",
      "dtypes: float64(4), int64(4), object(6)\n",
      "memory usage: 6.8+ KB\n"
     ]
    }
   ],
   "source": [
    "# Load hospital and personnel data\n",
    "\n",
    "p_df = pd.read_table('CaliforniaHospitalData_Personnel.txt', sep='\\t')\n",
    "h_df = pd.read_csv('CaliforniaHospitalData.csv')\n",
    "p_df.info()\n",
    "h_df.info()"
   ]
  },
  {
   "cell_type": "markdown",
   "id": "70b6356f-1d8c-4ab3-b849-877b5dfc0ad4",
   "metadata": {},
   "source": [
    "## Analysis"
   ]
  },
  {
   "cell_type": "code",
   "execution_count": 51,
   "id": "4c74d114-49e4-475a-90a7-dd2e16764d4e",
   "metadata": {},
   "outputs": [],
   "source": [
    "# Merging datasets\n",
    "\n",
    "hp_df = p_df.merge(h_df, on='HospitalID')"
   ]
  },
  {
   "cell_type": "code",
   "execution_count": 53,
   "id": "4d2a6d7a-20ef-42f8-a6b4-ec96f5d4d77a",
   "metadata": {},
   "outputs": [],
   "source": [
    "# Removing columns\n",
    "\n",
    "hp_df.drop(['Work_ID', 'PositionID', 'Website'], axis=1, inplace=True)"
   ]
  },
  {
   "cell_type": "code",
   "execution_count": 55,
   "id": "177ab863-8006-4391-a1b2-4fcfae3a9793",
   "metadata": {},
   "outputs": [],
   "source": [
    "# Add myself to a hospital\n",
    "\n",
    "# Create dictionaries for the new position\n",
    "my_position = {'HospitalID ': '13738',\n",
    "           'Name': 'St. Mary Medical Center',\n",
    "           'LastName': 'Xu',\n",
    "           'FirstName': 'Haiheng' ,\n",
    "           'Gender': 'M',\n",
    "           'PositionTitle': 'Acting Director',\n",
    "           'Compensation': '248904',\n",
    "           'MaxTerm': '8',\n",
    "           'StartDate': '4/24/2025'\n",
    "          }\n",
    "\n",
    "# Convert the dictionary to DataFrame\n",
    "df_my_position = pd.DataFrame([my_position])\n",
    "\n",
    "# Use concat to merge dataframes\n",
    "hp_df = pd.concat([hp_df, df_my_position], ignore_index=True)"
   ]
  },
  {
   "cell_type": "code",
   "execution_count": 57,
   "id": "c9a324b3-08e0-4020-9c29-a592624f0937",
   "metadata": {},
   "outputs": [],
   "source": [
    "# Convert all date-time columns into a datetime data type\n",
    "\n",
    "hp_df['StartDate'] = pd.to_datetime(hp_df['StartDate'])\n",
    "\n"
   ]
  },
  {
   "cell_type": "code",
   "execution_count": 59,
   "id": "ee75d721-b12e-4080-94d6-a651bb3b1e37",
   "metadata": {},
   "outputs": [
    {
     "name": "stdout",
     "output_type": "stream",
     "text": [
      "<class 'pandas.core.frame.DataFrame'>\n",
      "RangeIndex: 62 entries, 0 to 61\n",
      "Data columns (total 23 columns):\n",
      " #   Column         Non-Null Count  Dtype         \n",
      "---  ------         --------------  -----         \n",
      " 0   HospitalID     61 non-null     float64       \n",
      " 1   LastName       62 non-null     object        \n",
      " 2   FirstName      62 non-null     object        \n",
      " 3   Gender         62 non-null     object        \n",
      " 4   PositionTitle  62 non-null     object        \n",
      " 5   Compensation   62 non-null     object        \n",
      " 6   MaxTerm        62 non-null     object        \n",
      " 7   StartDate      62 non-null     datetime64[ns]\n",
      " 8   Phone          61 non-null     object        \n",
      " 9   Email          61 non-null     object        \n",
      " 10  Name           62 non-null     object        \n",
      " 11  Zip            61 non-null     object        \n",
      " 12  TypeControl    61 non-null     object        \n",
      " 13  Teaching       61 non-null     object        \n",
      " 14  DonorType      61 non-null     object        \n",
      " 15  NoFTE          61 non-null     float64       \n",
      " 16  NetPatRev      61 non-null     float64       \n",
      " 17  InOperExp      61 non-null     float64       \n",
      " 18  OutOperExp     61 non-null     float64       \n",
      " 19  OperRev        61 non-null     float64       \n",
      " 20  OperInc        61 non-null     float64       \n",
      " 21  AvlBeds        61 non-null     float64       \n",
      " 22  HospitalID     1 non-null      object        \n",
      "dtypes: datetime64[ns](1), float64(8), object(14)\n",
      "memory usage: 11.3+ KB\n"
     ]
    }
   ],
   "source": [
    "hp_df.info()"
   ]
  },
  {
   "cell_type": "code",
   "execution_count": 61,
   "id": "4e3516cd-b4dc-4f56-b801-8ba9ea6c12d1",
   "metadata": {},
   "outputs": [
    {
     "name": "stdout",
     "output_type": "stream",
     "text": [
      "<class 'pandas.core.frame.DataFrame'>\n",
      "RangeIndex: 62 entries, 0 to 61\n",
      "Data columns (total 23 columns):\n",
      " #   Column         Non-Null Count  Dtype         \n",
      "---  ------         --------------  -----         \n",
      " 0   HospitalID     61 non-null     float64       \n",
      " 1   LastName       62 non-null     object        \n",
      " 2   FirstName      62 non-null     object        \n",
      " 3   Gender         62 non-null     category      \n",
      " 4   PositionTitle  62 non-null     category      \n",
      " 5   Compensation   62 non-null     object        \n",
      " 6   MaxTerm        62 non-null     object        \n",
      " 7   StartDate      62 non-null     datetime64[ns]\n",
      " 8   Phone          61 non-null     object        \n",
      " 9   Email          61 non-null     object        \n",
      " 10  Name           62 non-null     object        \n",
      " 11  Zip            61 non-null     object        \n",
      " 12  TypeControl    61 non-null     category      \n",
      " 13  Teaching       61 non-null     category      \n",
      " 14  DonorType      61 non-null     category      \n",
      " 15  NoFTE          61 non-null     float64       \n",
      " 16  NetPatRev      61 non-null     float64       \n",
      " 17  InOperExp      61 non-null     float64       \n",
      " 18  OutOperExp     61 non-null     float64       \n",
      " 19  OperRev        61 non-null     float64       \n",
      " 20  OperInc        61 non-null     float64       \n",
      " 21  AvlBeds        61 non-null     float64       \n",
      " 22  HospitalID     1 non-null      object        \n",
      "dtypes: category(5), datetime64[ns](1), float64(8), object(9)\n",
      "memory usage: 9.9+ KB\n"
     ]
    }
   ],
   "source": [
    "# Ensure object data has the categorical data type\n",
    "\n",
    "# Convert to categorical \n",
    "hp_df['TypeControl'] = hp_df.TypeControl.astype('category')\n",
    "hp_df['Teaching'] = hp_df.Teaching.astype('category')\n",
    "hp_df['DonorType'] = hp_df.DonorType.astype('category')\n",
    "hp_df['Gender'] = hp_df.Gender.astype('category')\n",
    "hp_df['PositionTitle'] = hp_df.PositionTitle.astype('category')\n",
    "\n",
    "hp_df.info()"
   ]
  },
  {
   "cell_type": "code",
   "execution_count": 63,
   "id": "aace0e3c-b946-4277-9299-6feb002890b7",
   "metadata": {},
   "outputs": [
    {
     "data": {
      "text/html": [
       "<div>\n",
       "<style scoped>\n",
       "    .dataframe tbody tr th:only-of-type {\n",
       "        vertical-align: middle;\n",
       "    }\n",
       "\n",
       "    .dataframe tbody tr th {\n",
       "        vertical-align: top;\n",
       "    }\n",
       "\n",
       "    .dataframe thead th {\n",
       "        text-align: right;\n",
       "    }\n",
       "</style>\n",
       "<table border=\"1\" class=\"dataframe\">\n",
       "  <thead>\n",
       "    <tr style=\"text-align: right;\">\n",
       "      <th></th>\n",
       "      <th>HospitalID</th>\n",
       "      <th>NoFTE</th>\n",
       "      <th>NetPatRev</th>\n",
       "      <th>InOperExp</th>\n",
       "      <th>OutOperExp</th>\n",
       "      <th>OperRev</th>\n",
       "      <th>OperInc</th>\n",
       "      <th>AvlBeds</th>\n",
       "    </tr>\n",
       "  </thead>\n",
       "  <tbody>\n",
       "    <tr>\n",
       "      <th>count</th>\n",
       "      <td>61.000000</td>\n",
       "      <td>61.000000</td>\n",
       "      <td>6.100000e+01</td>\n",
       "      <td>6.100000e+01</td>\n",
       "      <td>6.100000e+01</td>\n",
       "      <td>6.100000e+01</td>\n",
       "      <td>6.100000e+01</td>\n",
       "      <td>61.000000</td>\n",
       "    </tr>\n",
       "    <tr>\n",
       "      <th>mean</th>\n",
       "      <td>31828.459016</td>\n",
       "      <td>1350.264262</td>\n",
       "      <td>6.695836e+05</td>\n",
       "      <td>1.662706e+08</td>\n",
       "      <td>9.015808e+07</td>\n",
       "      <td>2.562733e+08</td>\n",
       "      <td>-1.553491e+05</td>\n",
       "      <td>194.524590</td>\n",
       "    </tr>\n",
       "    <tr>\n",
       "      <th>std</th>\n",
       "      <td>11013.958491</td>\n",
       "      <td>2025.285385</td>\n",
       "      <td>1.097513e+06</td>\n",
       "      <td>2.827876e+08</td>\n",
       "      <td>1.372897e+08</td>\n",
       "      <td>4.249851e+08</td>\n",
       "      <td>7.154457e+07</td>\n",
       "      <td>221.832941</td>\n",
       "    </tr>\n",
       "    <tr>\n",
       "      <th>min</th>\n",
       "      <td>10767.000000</td>\n",
       "      <td>55.000000</td>\n",
       "      <td>1.417224e+04</td>\n",
       "      <td>1.436471e+06</td>\n",
       "      <td>3.787718e+06</td>\n",
       "      <td>5.235317e+06</td>\n",
       "      <td>-3.211633e+08</td>\n",
       "      <td>12.000000</td>\n",
       "    </tr>\n",
       "    <tr>\n",
       "      <th>25%</th>\n",
       "      <td>21053.000000</td>\n",
       "      <td>215.500000</td>\n",
       "      <td>6.579243e+04</td>\n",
       "      <td>1.368450e+07</td>\n",
       "      <td>1.426128e+07</td>\n",
       "      <td>2.416452e+07</td>\n",
       "      <td>-1.108177e+06</td>\n",
       "      <td>42.000000</td>\n",
       "    </tr>\n",
       "    <tr>\n",
       "      <th>50%</th>\n",
       "      <td>33251.000000</td>\n",
       "      <td>374.320000</td>\n",
       "      <td>1.723989e+05</td>\n",
       "      <td>3.184268e+07</td>\n",
       "      <td>3.491622e+07</td>\n",
       "      <td>6.339822e+07</td>\n",
       "      <td>1.572695e+06</td>\n",
       "      <td>99.000000</td>\n",
       "    </tr>\n",
       "    <tr>\n",
       "      <th>75%</th>\n",
       "      <td>39102.000000</td>\n",
       "      <td>1216.000000</td>\n",
       "      <td>5.409751e+05</td>\n",
       "      <td>1.737450e+08</td>\n",
       "      <td>9.306671e+07</td>\n",
       "      <td>1.998738e+08</td>\n",
       "      <td>6.198330e+06</td>\n",
       "      <td>234.000000</td>\n",
       "    </tr>\n",
       "    <tr>\n",
       "      <th>max</th>\n",
       "      <td>46996.000000</td>\n",
       "      <td>8000.000000</td>\n",
       "      <td>4.662582e+06</td>\n",
       "      <td>1.285631e+09</td>\n",
       "      <td>6.621559e+08</td>\n",
       "      <td>1.912179e+09</td>\n",
       "      <td>1.648724e+08</td>\n",
       "      <td>909.000000</td>\n",
       "    </tr>\n",
       "  </tbody>\n",
       "</table>\n",
       "</div>"
      ],
      "text/plain": [
       "         HospitalID        NoFTE     NetPatRev     InOperExp    OutOperExp  \\\n",
       "count     61.000000    61.000000  6.100000e+01  6.100000e+01  6.100000e+01   \n",
       "mean   31828.459016  1350.264262  6.695836e+05  1.662706e+08  9.015808e+07   \n",
       "std    11013.958491  2025.285385  1.097513e+06  2.827876e+08  1.372897e+08   \n",
       "min    10767.000000    55.000000  1.417224e+04  1.436471e+06  3.787718e+06   \n",
       "25%    21053.000000   215.500000  6.579243e+04  1.368450e+07  1.426128e+07   \n",
       "50%    33251.000000   374.320000  1.723989e+05  3.184268e+07  3.491622e+07   \n",
       "75%    39102.000000  1216.000000  5.409751e+05  1.737450e+08  9.306671e+07   \n",
       "max    46996.000000  8000.000000  4.662582e+06  1.285631e+09  6.621559e+08   \n",
       "\n",
       "            OperRev       OperInc     AvlBeds  \n",
       "count  6.100000e+01  6.100000e+01   61.000000  \n",
       "mean   2.562733e+08 -1.553491e+05  194.524590  \n",
       "std    4.249851e+08  7.154457e+07  221.832941  \n",
       "min    5.235317e+06 -3.211633e+08   12.000000  \n",
       "25%    2.416452e+07 -1.108177e+06   42.000000  \n",
       "50%    6.339822e+07  1.572695e+06   99.000000  \n",
       "75%    1.998738e+08  6.198330e+06  234.000000  \n",
       "max    1.912179e+09  1.648724e+08  909.000000  "
      ]
     },
     "execution_count": 63,
     "metadata": {},
     "output_type": "execute_result"
    }
   ],
   "source": [
    "# Provide a summary of the mean, median, minimum value, and maximum value for each numeric variable\n",
    "\n",
    "hp_df.describe(include=['number'])"
   ]
  },
  {
   "cell_type": "code",
   "execution_count": 65,
   "id": "e5b1480d-9a5d-4060-a500-0f38179e1ff5",
   "metadata": {},
   "outputs": [
    {
     "data": {
      "text/html": [
       "<div>\n",
       "<style scoped>\n",
       "    .dataframe tbody tr th:only-of-type {\n",
       "        vertical-align: middle;\n",
       "    }\n",
       "\n",
       "    .dataframe tbody tr th {\n",
       "        vertical-align: top;\n",
       "    }\n",
       "\n",
       "    .dataframe thead th {\n",
       "        text-align: right;\n",
       "    }\n",
       "</style>\n",
       "<table border=\"1\" class=\"dataframe\">\n",
       "  <thead>\n",
       "    <tr style=\"text-align: right;\">\n",
       "      <th></th>\n",
       "      <th>LastName</th>\n",
       "      <th>FirstName</th>\n",
       "      <th>Compensation</th>\n",
       "      <th>MaxTerm</th>\n",
       "      <th>Phone</th>\n",
       "      <th>Email</th>\n",
       "      <th>Name</th>\n",
       "      <th>Zip</th>\n",
       "      <th>HospitalID</th>\n",
       "    </tr>\n",
       "  </thead>\n",
       "  <tbody>\n",
       "    <tr>\n",
       "      <th>count</th>\n",
       "      <td>62</td>\n",
       "      <td>62</td>\n",
       "      <td>62</td>\n",
       "      <td>62</td>\n",
       "      <td>61</td>\n",
       "      <td>61</td>\n",
       "      <td>62</td>\n",
       "      <td>61</td>\n",
       "      <td>1</td>\n",
       "    </tr>\n",
       "    <tr>\n",
       "      <th>unique</th>\n",
       "      <td>24</td>\n",
       "      <td>20</td>\n",
       "      <td>5</td>\n",
       "      <td>5</td>\n",
       "      <td>24</td>\n",
       "      <td>24</td>\n",
       "      <td>61</td>\n",
       "      <td>61</td>\n",
       "      <td>1</td>\n",
       "    </tr>\n",
       "    <tr>\n",
       "      <th>top</th>\n",
       "      <td>Smith</td>\n",
       "      <td>David</td>\n",
       "      <td>46978</td>\n",
       "      <td>4</td>\n",
       "      <td>405-744-2238</td>\n",
       "      <td>jose.rodriguez@edihealth.com</td>\n",
       "      <td>St. Mary Medical Center</td>\n",
       "      <td>92392</td>\n",
       "      <td>13738</td>\n",
       "    </tr>\n",
       "    <tr>\n",
       "      <th>freq</th>\n",
       "      <td>4</td>\n",
       "      <td>6</td>\n",
       "      <td>24</td>\n",
       "      <td>24</td>\n",
       "      <td>3</td>\n",
       "      <td>3</td>\n",
       "      <td>2</td>\n",
       "      <td>1</td>\n",
       "      <td>1</td>\n",
       "    </tr>\n",
       "  </tbody>\n",
       "</table>\n",
       "</div>"
      ],
      "text/plain": [
       "       LastName FirstName  Compensation  MaxTerm         Phone  \\\n",
       "count        62        62            62       62            61   \n",
       "unique       24        20             5        5            24   \n",
       "top       Smith     David         46978        4  405-744-2238   \n",
       "freq          4         6            24       24             3   \n",
       "\n",
       "                               Email                     Name    Zip  \\\n",
       "count                             61                       62     61   \n",
       "unique                            24                       61     61   \n",
       "top     jose.rodriguez@edihealth.com  St. Mary Medical Center  92392   \n",
       "freq                               3                        2      1   \n",
       "\n",
       "       HospitalID   \n",
       "count            1  \n",
       "unique           1  \n",
       "top          13738  \n",
       "freq             1  "
      ]
     },
     "execution_count": 65,
     "metadata": {},
     "output_type": "execute_result"
    }
   ],
   "source": [
    "# Provide summary statistics of your text variables\n",
    "\n",
    "hp_df.describe(include=['object'])"
   ]
  },
  {
   "cell_type": "code",
   "execution_count": 67,
   "id": "085070a0-0785-443d-b8cd-e590f9932f75",
   "metadata": {},
   "outputs": [
    {
     "data": {
      "text/html": [
       "<div>\n",
       "<style scoped>\n",
       "    .dataframe tbody tr th:only-of-type {\n",
       "        vertical-align: middle;\n",
       "    }\n",
       "\n",
       "    .dataframe tbody tr th {\n",
       "        vertical-align: top;\n",
       "    }\n",
       "\n",
       "    .dataframe thead th {\n",
       "        text-align: right;\n",
       "    }\n",
       "</style>\n",
       "<table border=\"1\" class=\"dataframe\">\n",
       "  <thead>\n",
       "    <tr style=\"text-align: right;\">\n",
       "      <th></th>\n",
       "      <th>Gender</th>\n",
       "      <th>PositionTitle</th>\n",
       "      <th>TypeControl</th>\n",
       "      <th>Teaching</th>\n",
       "      <th>DonorType</th>\n",
       "    </tr>\n",
       "  </thead>\n",
       "  <tbody>\n",
       "    <tr>\n",
       "      <th>count</th>\n",
       "      <td>62</td>\n",
       "      <td>62</td>\n",
       "      <td>61</td>\n",
       "      <td>61</td>\n",
       "      <td>61</td>\n",
       "    </tr>\n",
       "    <tr>\n",
       "      <th>unique</th>\n",
       "      <td>2</td>\n",
       "      <td>4</td>\n",
       "      <td>4</td>\n",
       "      <td>2</td>\n",
       "      <td>2</td>\n",
       "    </tr>\n",
       "    <tr>\n",
       "      <th>top</th>\n",
       "      <td>F</td>\n",
       "      <td>Regional Representative</td>\n",
       "      <td>Non Profit</td>\n",
       "      <td>Small/Rural</td>\n",
       "      <td>Charity</td>\n",
       "    </tr>\n",
       "    <tr>\n",
       "      <th>freq</th>\n",
       "      <td>32</td>\n",
       "      <td>24</td>\n",
       "      <td>37</td>\n",
       "      <td>44</td>\n",
       "      <td>44</td>\n",
       "    </tr>\n",
       "  </tbody>\n",
       "</table>\n",
       "</div>"
      ],
      "text/plain": [
       "       Gender            PositionTitle TypeControl     Teaching DonorType\n",
       "count      62                       62          61           61        61\n",
       "unique      2                        4           4            2         2\n",
       "top         F  Regional Representative  Non Profit  Small/Rural   Charity\n",
       "freq       32                       24          37           44        44"
      ]
     },
     "execution_count": 67,
     "metadata": {},
     "output_type": "execute_result"
    }
   ],
   "source": [
    "# Provide summary statistics of your categorical variables\n",
    "\n",
    "hp_df.describe(include=['category'])"
   ]
  },
  {
   "cell_type": "markdown",
   "id": "865116d2-6d54-42b4-9b18-db862da4eaab",
   "metadata": {},
   "source": [
    "## Visualizations"
   ]
  },
  {
   "cell_type": "code",
   "execution_count": 75,
   "id": "e4791b0f-03a2-4ed5-8e2a-4e96bc238382",
   "metadata": {},
   "outputs": [
    {
     "data": {
      "text/plain": [
       "<Axes: >"
      ]
     },
     "execution_count": 75,
     "metadata": {},
     "output_type": "execute_result"
    },
    {
     "data": {
      "image/png": "[encoded data removed]",
      "text/plain": [
       "<Figure size 640x480 with 1 Axes>"
      ]
     },
     "metadata": {},
     "output_type": "display_data"
    }
   ],
   "source": [
    "# Histogram for NoFTE\n",
    "\n",
    "ts = hp_df[\"NoFTE\"].copy()            \n",
    "ts.index = pd.date_range(\"1/1/2000\", periods=len(ts)) \n",
    "ts = ts.cumsum()\n",
    "ts.plot()\n"
   ]
  },
  {
   "cell_type": "code",
   "execution_count": null,
   "id": "5a67b40b-f48c-40d0-b13f-051b33d74156",
   "metadata": {},
   "outputs": [],
   "source": []
  }
 ],
 "metadata": {
  "kernelspec": {
   "display_name": "Python [conda env:base] *",
   "language": "python",
   "name": "conda-base-py"
  },
  "language_info": {
   "codemirror_mode": {
    "name": "ipython",
    "version": 3
   },
   "file_extension": ".py",
   "mimetype": "text/x-python",
   "name": "python",
   "nbconvert_exporter": "python",
   "pygments_lexer": "ipython3",
   "version": "3.12.7"
  }
 },
 "nbformat": 4,
 "nbformat_minor": 5
}
