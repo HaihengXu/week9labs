{
 "cells": [
  {
   "cell_type": "markdown",
   "id": "48bc7b1a-191f-46e8-8409-89f183ca71e1",
   "metadata": {},
   "source": [
    "# Week 9 Independent lab: Statistics in Python\n",
    "\n",
    "Author: Haiheng Xu  \n",
    "Course: BGEN632 Grad. Intro. to Python  \n",
    "Term: Spring 2025  \n",
    "Date: April 26, 2025 "
   ]
  },
  {
   "cell_type": "code",
   "execution_count": 119,
   "id": "6cb166b8-e9dc-409d-aaac-6e8f4e47cd8a",
   "metadata": {},
   "outputs": [],
   "source": [
    "# load modules\n",
    "import os\n",
    "import pandas as pd\n",
    "import numpy as np\n",
    "import matplotlib.pyplot as plt\n",
    "import scipy.stats as sts # for QQ plot\n",
    "from scipy.stats import pearsonr # correlation p-values\n",
    "from sklearn.linear_model import LinearRegression # regression output\n",
    "import statsmodels.formula.api as smf # ols regression"
   ]
  },
  {
   "cell_type": "code",
   "execution_count": 121,
   "id": "aa2928a5-0d59-464c-8b40-8ed4e52181ae",
   "metadata": {},
   "outputs": [],
   "source": [
    "# set working directory\n",
    "os.chdir(\"C:\\\\Users\\\\haihe\\\\Desktop\\\\Classes\\\\Intro to Python\\\\week9labs\\\\data\")  # change this to your filepath\n",
    "# Load data\n",
    "e_df = pd.read_table('ect_data.txt', sep='\\t')"
   ]
  },
  {
   "cell_type": "code",
   "execution_count": 123,
   "id": "1d2ee180-6da1-4543-aa42-025eebd591b3",
   "metadata": {},
   "outputs": [
    {
     "name": "stdout",
     "output_type": "stream",
     "text": [
      "<class 'pandas.core.frame.DataFrame'>\n",
      "RangeIndex: 201 entries, 0 to 200\n",
      "Data columns (total 16 columns):\n",
      " #   Column        Non-Null Count  Dtype\n",
      "---  ------        --------------  -----\n",
      " 0   attitude1_01  201 non-null    int64\n",
      " 1   attitude1_02  201 non-null    int64\n",
      " 2   attitude1_03  201 non-null    int64\n",
      " 3   attitude1_04  201 non-null    int64\n",
      " 4   intent1_01    201 non-null    int64\n",
      " 5   intent1_02    201 non-null    int64\n",
      " 6   intent1_03    201 non-null    int64\n",
      " 7   intent1_04    201 non-null    int64\n",
      " 8   peruse01      201 non-null    int64\n",
      " 9   peruse02      201 non-null    int64\n",
      " 10  peruse03      201 non-null    int64\n",
      " 11  peruse04      201 non-null    int64\n",
      " 12  satis01       201 non-null    int64\n",
      " 13  satis02       201 non-null    int64\n",
      " 14  satis03       201 non-null    int64\n",
      " 15  satis04       201 non-null    int64\n",
      "dtypes: int64(16)\n",
      "memory usage: 25.3 KB\n"
     ]
    }
   ],
   "source": [
    "e_df.info()"
   ]
  },
  {
   "cell_type": "code",
   "execution_count": 125,
   "id": "c6c3cae9-dbef-4977-a47a-842b557fa30a",
   "metadata": {},
   "outputs": [
    {
     "data": {
      "text/html": [
       "<table class=\"simpletable\">\n",
       "<caption>OLS Regression Results</caption>\n",
       "<tr>\n",
       "  <th>Dep. Variable:</th>       <td>intent1_01</td>    <th>  R-squared:         </th> <td>   0.528</td>\n",
       "</tr>\n",
       "<tr>\n",
       "  <th>Model:</th>                   <td>OLS</td>       <th>  Adj. R-squared:    </th> <td>   0.516</td>\n",
       "</tr>\n",
       "<tr>\n",
       "  <th>Method:</th>             <td>Least Squares</td>  <th>  F-statistic:       </th> <td>   43.65</td>\n",
       "</tr>\n",
       "<tr>\n",
       "  <th>Date:</th>             <td>Sat, 26 Apr 2025</td> <th>  Prob (F-statistic):</th> <td>4.54e-30</td>\n",
       "</tr>\n",
       "<tr>\n",
       "  <th>Time:</th>                 <td>16:48:37</td>     <th>  Log-Likelihood:    </th> <td> -213.19</td>\n",
       "</tr>\n",
       "<tr>\n",
       "  <th>No. Observations:</th>      <td>   201</td>      <th>  AIC:               </th> <td>   438.4</td>\n",
       "</tr>\n",
       "<tr>\n",
       "  <th>Df Residuals:</th>          <td>   195</td>      <th>  BIC:               </th> <td>   458.2</td>\n",
       "</tr>\n",
       "<tr>\n",
       "  <th>Df Model:</th>              <td>     5</td>      <th>                     </th>     <td> </td>   \n",
       "</tr>\n",
       "<tr>\n",
       "  <th>Covariance Type:</th>      <td>nonrobust</td>    <th>                     </th>     <td> </td>   \n",
       "</tr>\n",
       "</table>\n",
       "<table class=\"simpletable\">\n",
       "<tr>\n",
       "        <td></td>          <th>coef</th>     <th>std err</th>      <th>t</th>      <th>P>|t|</th>  <th>[0.025</th>    <th>0.975]</th>  \n",
       "</tr>\n",
       "<tr>\n",
       "  <th>Intercept</th>    <td>    1.0098</td> <td>    0.359</td> <td>    2.810</td> <td> 0.005</td> <td>    0.301</td> <td>    1.719</td>\n",
       "</tr>\n",
       "<tr>\n",
       "  <th>attitude1_01</th> <td>    0.4326</td> <td>    0.092</td> <td>    4.701</td> <td> 0.000</td> <td>    0.251</td> <td>    0.614</td>\n",
       "</tr>\n",
       "<tr>\n",
       "  <th>attitude1_03</th> <td>   -0.0186</td> <td>    0.072</td> <td>   -0.259</td> <td> 0.796</td> <td>   -0.161</td> <td>    0.124</td>\n",
       "</tr>\n",
       "<tr>\n",
       "  <th>peruse01</th>     <td>    0.2496</td> <td>    0.059</td> <td>    4.224</td> <td> 0.000</td> <td>    0.133</td> <td>    0.366</td>\n",
       "</tr>\n",
       "<tr>\n",
       "  <th>satis01</th>      <td>    0.1598</td> <td>    0.073</td> <td>    2.194</td> <td> 0.029</td> <td>    0.016</td> <td>    0.303</td>\n",
       "</tr>\n",
       "<tr>\n",
       "  <th>satis03</th>      <td>    0.0564</td> <td>    0.063</td> <td>    0.891</td> <td> 0.374</td> <td>   -0.068</td> <td>    0.181</td>\n",
       "</tr>\n",
       "</table>\n",
       "<table class=\"simpletable\">\n",
       "<tr>\n",
       "  <th>Omnibus:</th>       <td>55.301</td> <th>  Durbin-Watson:     </th> <td>   1.920</td>\n",
       "</tr>\n",
       "<tr>\n",
       "  <th>Prob(Omnibus):</th> <td> 0.000</td> <th>  Jarque-Bera (JB):  </th> <td> 250.597</td>\n",
       "</tr>\n",
       "<tr>\n",
       "  <th>Skew:</th>          <td>-0.969</td> <th>  Prob(JB):          </th> <td>3.83e-55</td>\n",
       "</tr>\n",
       "<tr>\n",
       "  <th>Kurtosis:</th>      <td> 8.116</td> <th>  Cond. No.          </th> <td>    94.2</td>\n",
       "</tr>\n",
       "</table><br/><br/>Notes:<br/>[1] Standard Errors assume that the covariance matrix of the errors is correctly specified."
      ],
      "text/latex": [
       "\\begin{center}\n",
       "\\begin{tabular}{lclc}\n",
       "\\toprule\n",
       "\\textbf{Dep. Variable:}    &   intent1\\_01    & \\textbf{  R-squared:         } &     0.528   \\\\\n",
       "\\textbf{Model:}            &       OLS        & \\textbf{  Adj. R-squared:    } &     0.516   \\\\\n",
       "\\textbf{Method:}           &  Least Squares   & \\textbf{  F-statistic:       } &     43.65   \\\\\n",
       "\\textbf{Date:}             & Sat, 26 Apr 2025 & \\textbf{  Prob (F-statistic):} &  4.54e-30   \\\\\n",
       "\\textbf{Time:}             &     16:48:37     & \\textbf{  Log-Likelihood:    } &   -213.19   \\\\\n",
       "\\textbf{No. Observations:} &         201      & \\textbf{  AIC:               } &     438.4   \\\\\n",
       "\\textbf{Df Residuals:}     &         195      & \\textbf{  BIC:               } &     458.2   \\\\\n",
       "\\textbf{Df Model:}         &           5      & \\textbf{                     } &             \\\\\n",
       "\\textbf{Covariance Type:}  &    nonrobust     & \\textbf{                     } &             \\\\\n",
       "\\bottomrule\n",
       "\\end{tabular}\n",
       "\\begin{tabular}{lcccccc}\n",
       "                       & \\textbf{coef} & \\textbf{std err} & \\textbf{t} & \\textbf{P$> |$t$|$} & \\textbf{[0.025} & \\textbf{0.975]}  \\\\\n",
       "\\midrule\n",
       "\\textbf{Intercept}     &       1.0098  &        0.359     &     2.810  &         0.005        &        0.301    &        1.719     \\\\\n",
       "\\textbf{attitude1\\_01} &       0.4326  &        0.092     &     4.701  &         0.000        &        0.251    &        0.614     \\\\\n",
       "\\textbf{attitude1\\_03} &      -0.0186  &        0.072     &    -0.259  &         0.796        &       -0.161    &        0.124     \\\\\n",
       "\\textbf{peruse01}      &       0.2496  &        0.059     &     4.224  &         0.000        &        0.133    &        0.366     \\\\\n",
       "\\textbf{satis01}       &       0.1598  &        0.073     &     2.194  &         0.029        &        0.016    &        0.303     \\\\\n",
       "\\textbf{satis03}       &       0.0564  &        0.063     &     0.891  &         0.374        &       -0.068    &        0.181     \\\\\n",
       "\\bottomrule\n",
       "\\end{tabular}\n",
       "\\begin{tabular}{lclc}\n",
       "\\textbf{Omnibus:}       & 55.301 & \\textbf{  Durbin-Watson:     } &    1.920  \\\\\n",
       "\\textbf{Prob(Omnibus):} &  0.000 & \\textbf{  Jarque-Bera (JB):  } &  250.597  \\\\\n",
       "\\textbf{Skew:}          & -0.969 & \\textbf{  Prob(JB):          } & 3.83e-55  \\\\\n",
       "\\textbf{Kurtosis:}      &  8.116 & \\textbf{  Cond. No.          } &     94.2  \\\\\n",
       "\\bottomrule\n",
       "\\end{tabular}\n",
       "%\\caption{OLS Regression Results}\n",
       "\\end{center}\n",
       "\n",
       "Notes: \\newline\n",
       " [1] Standard Errors assume that the covariance matrix of the errors is correctly specified."
      ],
      "text/plain": [
       "<class 'statsmodels.iolib.summary.Summary'>\n",
       "\"\"\"\n",
       "                            OLS Regression Results                            \n",
       "==============================================================================\n",
       "Dep. Variable:             intent1_01   R-squared:                       0.528\n",
       "Model:                            OLS   Adj. R-squared:                  0.516\n",
       "Method:                 Least Squares   F-statistic:                     43.65\n",
       "Date:                Sat, 26 Apr 2025   Prob (F-statistic):           4.54e-30\n",
       "Time:                        16:48:37   Log-Likelihood:                -213.19\n",
       "No. Observations:                 201   AIC:                             438.4\n",
       "Df Residuals:                     195   BIC:                             458.2\n",
       "Df Model:                           5                                         \n",
       "Covariance Type:            nonrobust                                         \n",
       "================================================================================\n",
       "                   coef    std err          t      P>|t|      [0.025      0.975]\n",
       "--------------------------------------------------------------------------------\n",
       "Intercept        1.0098      0.359      2.810      0.005       0.301       1.719\n",
       "attitude1_01     0.4326      0.092      4.701      0.000       0.251       0.614\n",
       "attitude1_03    -0.0186      0.072     -0.259      0.796      -0.161       0.124\n",
       "peruse01         0.2496      0.059      4.224      0.000       0.133       0.366\n",
       "satis01          0.1598      0.073      2.194      0.029       0.016       0.303\n",
       "satis03          0.0564      0.063      0.891      0.374      -0.068       0.181\n",
       "==============================================================================\n",
       "Omnibus:                       55.301   Durbin-Watson:                   1.920\n",
       "Prob(Omnibus):                  0.000   Jarque-Bera (JB):              250.597\n",
       "Skew:                          -0.969   Prob(JB):                     3.83e-55\n",
       "Kurtosis:                       8.116   Cond. No.                         94.2\n",
       "==============================================================================\n",
       "\n",
       "Notes:\n",
       "[1] Standard Errors assume that the covariance matrix of the errors is correctly specified.\n",
       "\"\"\""
      ]
     },
     "execution_count": 125,
     "metadata": {},
     "output_type": "execute_result"
    }
   ],
   "source": [
    "# Create a regression model\n",
    "\n",
    "ect_reg = smf.ols('intent1_01 ~ attitude1_01 + attitude1_03 + peruse01 + satis01 + satis03', e_df).fit()\n",
    "\n",
    "ect_reg.summary()"
   ]
  },
  {
   "cell_type": "markdown",
   "id": "11f3f737-dbcc-4383-a9f9-88fe8f0f298c",
   "metadata": {},
   "source": [
    "### Linearity"
   ]
  },
  {
   "cell_type": "code",
   "execution_count": 128,
   "id": "70f72cf8-53a1-4207-8922-c69a0e41ebe8",
   "metadata": {},
   "outputs": [
    {
     "data": {
      "text/plain": [
       "<Axes: xlabel='attitude1_01', ylabel='intent1_01'>"
      ]
     },
     "execution_count": 128,
     "metadata": {},
     "output_type": "execute_result"
    },
    {
     "data": {
      "image/png": "[encoded data removed]",
      "text/plain": [
       "<Figure size 640x480 with 1 Axes>"
      ]
     },
     "metadata": {},
     "output_type": "display_data"
    }
   ],
   "source": [
    "e_df.plot.scatter(x='attitude1_01', y='intent1_01')"
   ]
  },
  {
   "cell_type": "code",
   "execution_count": 130,
   "id": "77d75abf-162f-4ada-9a81-8e3c552cb5ac",
   "metadata": {},
   "outputs": [
    {
     "data": {
      "text/plain": [
       "<Axes: xlabel='attitude1_03', ylabel='intent1_01'>"
      ]
     },
     "execution_count": 130,
     "metadata": {},
     "output_type": "execute_result"
    },
    {
     "data": {
      "image/png": "[encoded data removed]",
      "text/plain": [
       "<Figure size 640x480 with 1 Axes>"
      ]
     },
     "metadata": {},
     "output_type": "display_data"
    }
   ],
   "source": [
    "e_df.plot.scatter(x='attitude1_03', y='intent1_01')\n"
   ]
  },
  {
   "cell_type": "code",
   "execution_count": 132,
   "id": "632912d5-0b8c-41f5-9e78-b8c0ef4d4a5f",
   "metadata": {},
   "outputs": [
    {
     "data": {
      "text/plain": [
       "<Axes: xlabel='peruse01', ylabel='intent1_01'>"
      ]
     },
     "execution_count": 132,
     "metadata": {},
     "output_type": "execute_result"
    },
    {
     "data": {
      "image/png": "[encoded data removed]",
      "text/plain": [
       "<Figure size 640x480 with 1 Axes>"
      ]
     },
     "metadata": {},
     "output_type": "display_data"
    }
   ],
   "source": [
    "e_df.plot.scatter(x='peruse01', y='intent1_01')\n"
   ]
  },
  {
   "cell_type": "code",
   "execution_count": 134,
   "id": "6cc9e5a4-c024-4a45-a0e9-def124c6a04a",
   "metadata": {},
   "outputs": [
    {
     "data": {
      "text/plain": [
       "<Axes: xlabel='satis01', ylabel='intent1_01'>"
      ]
     },
     "execution_count": 134,
     "metadata": {},
     "output_type": "execute_result"
    },
    {
     "data": {
      "image/png": "[encoded data removed]",
      "text/plain": [
       "<Figure size 640x480 with 1 Axes>"
      ]
     },
     "metadata": {},
     "output_type": "display_data"
    }
   ],
   "source": [
    "e_df.plot.scatter(x='satis01', y='intent1_01')\n"
   ]
  },
  {
   "cell_type": "code",
   "execution_count": 136,
   "id": "d74bd4a2-3d4a-4e5e-8f8f-92ad0c321db9",
   "metadata": {},
   "outputs": [
    {
     "data": {
      "text/plain": [
       "<Axes: xlabel='satis03', ylabel='intent1_01'>"
      ]
     },
     "execution_count": 136,
     "metadata": {},
     "output_type": "execute_result"
    },
    {
     "data": {
      "image/png": "[encoded data removed]",
      "text/plain": [
       "<Figure size 640x480 with 1 Axes>"
      ]
     },
     "metadata": {},
     "output_type": "display_data"
    }
   ],
   "source": [
    "e_df.plot.scatter(x='satis03', y='intent1_01')\n"
   ]
  },
  {
   "cell_type": "markdown",
   "id": "6645b996-3b77-4350-8fed-6492bc2b0899",
   "metadata": {},
   "source": [
    "According to the scatterplots, there are no clear curve or pattern thus they are non linear."
   ]
  },
  {
   "cell_type": "markdown",
   "id": "a7864d76-156e-481b-8ad7-f7a731eab35f",
   "metadata": {},
   "source": [
    "### Collinearity"
   ]
  },
  {
   "cell_type": "code",
   "execution_count": 140,
   "id": "91944d6c-afb5-4920-afab-2a2b6e16a7bd",
   "metadata": {},
   "outputs": [
    {
     "data": {
      "text/html": [
       "<div>\n",
       "<style scoped>\n",
       "    .dataframe tbody tr th:only-of-type {\n",
       "        vertical-align: middle;\n",
       "    }\n",
       "\n",
       "    .dataframe tbody tr th {\n",
       "        vertical-align: top;\n",
       "    }\n",
       "\n",
       "    .dataframe thead th {\n",
       "        text-align: right;\n",
       "    }\n",
       "</style>\n",
       "<table border=\"1\" class=\"dataframe\">\n",
       "  <thead>\n",
       "    <tr style=\"text-align: right;\">\n",
       "      <th></th>\n",
       "      <th>attitude1_01</th>\n",
       "      <th>attitude1_02</th>\n",
       "      <th>attitude1_03</th>\n",
       "      <th>attitude1_04</th>\n",
       "      <th>intent1_01</th>\n",
       "      <th>intent1_02</th>\n",
       "      <th>intent1_03</th>\n",
       "      <th>intent1_04</th>\n",
       "      <th>peruse01</th>\n",
       "      <th>peruse02</th>\n",
       "      <th>peruse03</th>\n",
       "      <th>peruse04</th>\n",
       "      <th>satis01</th>\n",
       "      <th>satis02</th>\n",
       "      <th>satis03</th>\n",
       "      <th>satis04</th>\n",
       "    </tr>\n",
       "  </thead>\n",
       "  <tbody>\n",
       "    <tr>\n",
       "      <th>attitude1_01</th>\n",
       "      <td>1.000000</td>\n",
       "      <td>0.781832</td>\n",
       "      <td>0.748347</td>\n",
       "      <td>0.709922</td>\n",
       "      <td>0.666356</td>\n",
       "      <td>0.687054</td>\n",
       "      <td>0.654357</td>\n",
       "      <td>0.684226</td>\n",
       "      <td>0.576265</td>\n",
       "      <td>0.593120</td>\n",
       "      <td>0.622239</td>\n",
       "      <td>0.591388</td>\n",
       "      <td>0.569608</td>\n",
       "      <td>0.549134</td>\n",
       "      <td>0.483329</td>\n",
       "      <td>0.515116</td>\n",
       "    </tr>\n",
       "    <tr>\n",
       "      <th>attitude1_02</th>\n",
       "      <td>0.781832</td>\n",
       "      <td>1.000000</td>\n",
       "      <td>0.660611</td>\n",
       "      <td>0.622986</td>\n",
       "      <td>0.603616</td>\n",
       "      <td>0.704362</td>\n",
       "      <td>0.647626</td>\n",
       "      <td>0.650416</td>\n",
       "      <td>0.480259</td>\n",
       "      <td>0.547582</td>\n",
       "      <td>0.615780</td>\n",
       "      <td>0.551287</td>\n",
       "      <td>0.513672</td>\n",
       "      <td>0.517255</td>\n",
       "      <td>0.466889</td>\n",
       "      <td>0.523213</td>\n",
       "    </tr>\n",
       "    <tr>\n",
       "      <th>attitude1_03</th>\n",
       "      <td>0.748347</td>\n",
       "      <td>0.660611</td>\n",
       "      <td>1.000000</td>\n",
       "      <td>0.858235</td>\n",
       "      <td>0.519099</td>\n",
       "      <td>0.571588</td>\n",
       "      <td>0.471573</td>\n",
       "      <td>0.612550</td>\n",
       "      <td>0.453128</td>\n",
       "      <td>0.483051</td>\n",
       "      <td>0.544584</td>\n",
       "      <td>0.511677</td>\n",
       "      <td>0.519945</td>\n",
       "      <td>0.545646</td>\n",
       "      <td>0.463918</td>\n",
       "      <td>0.539753</td>\n",
       "    </tr>\n",
       "    <tr>\n",
       "      <th>attitude1_04</th>\n",
       "      <td>0.709922</td>\n",
       "      <td>0.622986</td>\n",
       "      <td>0.858235</td>\n",
       "      <td>1.000000</td>\n",
       "      <td>0.512032</td>\n",
       "      <td>0.560253</td>\n",
       "      <td>0.483636</td>\n",
       "      <td>0.581335</td>\n",
       "      <td>0.454046</td>\n",
       "      <td>0.492102</td>\n",
       "      <td>0.537477</td>\n",
       "      <td>0.495368</td>\n",
       "      <td>0.515158</td>\n",
       "      <td>0.518164</td>\n",
       "      <td>0.423812</td>\n",
       "      <td>0.478193</td>\n",
       "    </tr>\n",
       "    <tr>\n",
       "      <th>intent1_01</th>\n",
       "      <td>0.666356</td>\n",
       "      <td>0.603616</td>\n",
       "      <td>0.519099</td>\n",
       "      <td>0.512032</td>\n",
       "      <td>1.000000</td>\n",
       "      <td>0.886908</td>\n",
       "      <td>0.827830</td>\n",
       "      <td>0.757793</td>\n",
       "      <td>0.566642</td>\n",
       "      <td>0.529681</td>\n",
       "      <td>0.595103</td>\n",
       "      <td>0.488655</td>\n",
       "      <td>0.545688</td>\n",
       "      <td>0.500534</td>\n",
       "      <td>0.430458</td>\n",
       "      <td>0.494192</td>\n",
       "    </tr>\n",
       "    <tr>\n",
       "      <th>intent1_02</th>\n",
       "      <td>0.687054</td>\n",
       "      <td>0.704362</td>\n",
       "      <td>0.571588</td>\n",
       "      <td>0.560253</td>\n",
       "      <td>0.886908</td>\n",
       "      <td>1.000000</td>\n",
       "      <td>0.832684</td>\n",
       "      <td>0.786367</td>\n",
       "      <td>0.517334</td>\n",
       "      <td>0.489604</td>\n",
       "      <td>0.584902</td>\n",
       "      <td>0.478759</td>\n",
       "      <td>0.518394</td>\n",
       "      <td>0.505258</td>\n",
       "      <td>0.471791</td>\n",
       "      <td>0.508628</td>\n",
       "    </tr>\n",
       "    <tr>\n",
       "      <th>intent1_03</th>\n",
       "      <td>0.654357</td>\n",
       "      <td>0.647626</td>\n",
       "      <td>0.471573</td>\n",
       "      <td>0.483636</td>\n",
       "      <td>0.827830</td>\n",
       "      <td>0.832684</td>\n",
       "      <td>1.000000</td>\n",
       "      <td>0.722675</td>\n",
       "      <td>0.537531</td>\n",
       "      <td>0.552217</td>\n",
       "      <td>0.581282</td>\n",
       "      <td>0.513861</td>\n",
       "      <td>0.529800</td>\n",
       "      <td>0.466569</td>\n",
       "      <td>0.441605</td>\n",
       "      <td>0.472635</td>\n",
       "    </tr>\n",
       "    <tr>\n",
       "      <th>intent1_04</th>\n",
       "      <td>0.684226</td>\n",
       "      <td>0.650416</td>\n",
       "      <td>0.612550</td>\n",
       "      <td>0.581335</td>\n",
       "      <td>0.757793</td>\n",
       "      <td>0.786367</td>\n",
       "      <td>0.722675</td>\n",
       "      <td>1.000000</td>\n",
       "      <td>0.497286</td>\n",
       "      <td>0.521588</td>\n",
       "      <td>0.544137</td>\n",
       "      <td>0.491533</td>\n",
       "      <td>0.590820</td>\n",
       "      <td>0.555600</td>\n",
       "      <td>0.460866</td>\n",
       "      <td>0.628003</td>\n",
       "    </tr>\n",
       "    <tr>\n",
       "      <th>peruse01</th>\n",
       "      <td>0.576265</td>\n",
       "      <td>0.480259</td>\n",
       "      <td>0.453128</td>\n",
       "      <td>0.454046</td>\n",
       "      <td>0.566642</td>\n",
       "      <td>0.517334</td>\n",
       "      <td>0.537531</td>\n",
       "      <td>0.497286</td>\n",
       "      <td>1.000000</td>\n",
       "      <td>0.746810</td>\n",
       "      <td>0.753397</td>\n",
       "      <td>0.683090</td>\n",
       "      <td>0.399931</td>\n",
       "      <td>0.321710</td>\n",
       "      <td>0.198159</td>\n",
       "      <td>0.295438</td>\n",
       "    </tr>\n",
       "    <tr>\n",
       "      <th>peruse02</th>\n",
       "      <td>0.593120</td>\n",
       "      <td>0.547582</td>\n",
       "      <td>0.483051</td>\n",
       "      <td>0.492102</td>\n",
       "      <td>0.529681</td>\n",
       "      <td>0.489604</td>\n",
       "      <td>0.552217</td>\n",
       "      <td>0.521588</td>\n",
       "      <td>0.746810</td>\n",
       "      <td>1.000000</td>\n",
       "      <td>0.732724</td>\n",
       "      <td>0.728517</td>\n",
       "      <td>0.483252</td>\n",
       "      <td>0.423262</td>\n",
       "      <td>0.287002</td>\n",
       "      <td>0.391069</td>\n",
       "    </tr>\n",
       "    <tr>\n",
       "      <th>peruse03</th>\n",
       "      <td>0.622239</td>\n",
       "      <td>0.615780</td>\n",
       "      <td>0.544584</td>\n",
       "      <td>0.537477</td>\n",
       "      <td>0.595103</td>\n",
       "      <td>0.584902</td>\n",
       "      <td>0.581282</td>\n",
       "      <td>0.544137</td>\n",
       "      <td>0.753397</td>\n",
       "      <td>0.732724</td>\n",
       "      <td>1.000000</td>\n",
       "      <td>0.813831</td>\n",
       "      <td>0.511723</td>\n",
       "      <td>0.458772</td>\n",
       "      <td>0.338411</td>\n",
       "      <td>0.429421</td>\n",
       "    </tr>\n",
       "    <tr>\n",
       "      <th>peruse04</th>\n",
       "      <td>0.591388</td>\n",
       "      <td>0.551287</td>\n",
       "      <td>0.511677</td>\n",
       "      <td>0.495368</td>\n",
       "      <td>0.488655</td>\n",
       "      <td>0.478759</td>\n",
       "      <td>0.513861</td>\n",
       "      <td>0.491533</td>\n",
       "      <td>0.683090</td>\n",
       "      <td>0.728517</td>\n",
       "      <td>0.813831</td>\n",
       "      <td>1.000000</td>\n",
       "      <td>0.493265</td>\n",
       "      <td>0.403085</td>\n",
       "      <td>0.321003</td>\n",
       "      <td>0.368035</td>\n",
       "    </tr>\n",
       "    <tr>\n",
       "      <th>satis01</th>\n",
       "      <td>0.569608</td>\n",
       "      <td>0.513672</td>\n",
       "      <td>0.519945</td>\n",
       "      <td>0.515158</td>\n",
       "      <td>0.545688</td>\n",
       "      <td>0.518394</td>\n",
       "      <td>0.529800</td>\n",
       "      <td>0.590820</td>\n",
       "      <td>0.399931</td>\n",
       "      <td>0.483252</td>\n",
       "      <td>0.511723</td>\n",
       "      <td>0.493265</td>\n",
       "      <td>1.000000</td>\n",
       "      <td>0.870708</td>\n",
       "      <td>0.732622</td>\n",
       "      <td>0.774980</td>\n",
       "    </tr>\n",
       "    <tr>\n",
       "      <th>satis02</th>\n",
       "      <td>0.549134</td>\n",
       "      <td>0.517255</td>\n",
       "      <td>0.545646</td>\n",
       "      <td>0.518164</td>\n",
       "      <td>0.500534</td>\n",
       "      <td>0.505258</td>\n",
       "      <td>0.466569</td>\n",
       "      <td>0.555600</td>\n",
       "      <td>0.321710</td>\n",
       "      <td>0.423262</td>\n",
       "      <td>0.458772</td>\n",
       "      <td>0.403085</td>\n",
       "      <td>0.870708</td>\n",
       "      <td>1.000000</td>\n",
       "      <td>0.791641</td>\n",
       "      <td>0.768704</td>\n",
       "    </tr>\n",
       "    <tr>\n",
       "      <th>satis03</th>\n",
       "      <td>0.483329</td>\n",
       "      <td>0.466889</td>\n",
       "      <td>0.463918</td>\n",
       "      <td>0.423812</td>\n",
       "      <td>0.430458</td>\n",
       "      <td>0.471791</td>\n",
       "      <td>0.441605</td>\n",
       "      <td>0.460866</td>\n",
       "      <td>0.198159</td>\n",
       "      <td>0.287002</td>\n",
       "      <td>0.338411</td>\n",
       "      <td>0.321003</td>\n",
       "      <td>0.732622</td>\n",
       "      <td>0.791641</td>\n",
       "      <td>1.000000</td>\n",
       "      <td>0.706080</td>\n",
       "    </tr>\n",
       "    <tr>\n",
       "      <th>satis04</th>\n",
       "      <td>0.515116</td>\n",
       "      <td>0.523213</td>\n",
       "      <td>0.539753</td>\n",
       "      <td>0.478193</td>\n",
       "      <td>0.494192</td>\n",
       "      <td>0.508628</td>\n",
       "      <td>0.472635</td>\n",
       "      <td>0.628003</td>\n",
       "      <td>0.295438</td>\n",
       "      <td>0.391069</td>\n",
       "      <td>0.429421</td>\n",
       "      <td>0.368035</td>\n",
       "      <td>0.774980</td>\n",
       "      <td>0.768704</td>\n",
       "      <td>0.706080</td>\n",
       "      <td>1.000000</td>\n",
       "    </tr>\n",
       "  </tbody>\n",
       "</table>\n",
       "</div>"
      ],
      "text/plain": [
       "              attitude1_01  attitude1_02  attitude1_03  attitude1_04  \\\n",
       "attitude1_01      1.000000      0.781832      0.748347      0.709922   \n",
       "attitude1_02      0.781832      1.000000      0.660611      0.622986   \n",
       "attitude1_03      0.748347      0.660611      1.000000      0.858235   \n",
       "attitude1_04      0.709922      0.622986      0.858235      1.000000   \n",
       "intent1_01        0.666356      0.603616      0.519099      0.512032   \n",
       "intent1_02        0.687054      0.704362      0.571588      0.560253   \n",
       "intent1_03        0.654357      0.647626      0.471573      0.483636   \n",
       "intent1_04        0.684226      0.650416      0.612550      0.581335   \n",
       "peruse01          0.576265      0.480259      0.453128      0.454046   \n",
       "peruse02          0.593120      0.547582      0.483051      0.492102   \n",
       "peruse03          0.622239      0.615780      0.544584      0.537477   \n",
       "peruse04          0.591388      0.551287      0.511677      0.495368   \n",
       "satis01           0.569608      0.513672      0.519945      0.515158   \n",
       "satis02           0.549134      0.517255      0.545646      0.518164   \n",
       "satis03           0.483329      0.466889      0.463918      0.423812   \n",
       "satis04           0.515116      0.523213      0.539753      0.478193   \n",
       "\n",
       "              intent1_01  intent1_02  intent1_03  intent1_04  peruse01  \\\n",
       "attitude1_01    0.666356    0.687054    0.654357    0.684226  0.576265   \n",
       "attitude1_02    0.603616    0.704362    0.647626    0.650416  0.480259   \n",
       "attitude1_03    0.519099    0.571588    0.471573    0.612550  0.453128   \n",
       "attitude1_04    0.512032    0.560253    0.483636    0.581335  0.454046   \n",
       "intent1_01      1.000000    0.886908    0.827830    0.757793  0.566642   \n",
       "intent1_02      0.886908    1.000000    0.832684    0.786367  0.517334   \n",
       "intent1_03      0.827830    0.832684    1.000000    0.722675  0.537531   \n",
       "intent1_04      0.757793    0.786367    0.722675    1.000000  0.497286   \n",
       "peruse01        0.566642    0.517334    0.537531    0.497286  1.000000   \n",
       "peruse02        0.529681    0.489604    0.552217    0.521588  0.746810   \n",
       "peruse03        0.595103    0.584902    0.581282    0.544137  0.753397   \n",
       "peruse04        0.488655    0.478759    0.513861    0.491533  0.683090   \n",
       "satis01         0.545688    0.518394    0.529800    0.590820  0.399931   \n",
       "satis02         0.500534    0.505258    0.466569    0.555600  0.321710   \n",
       "satis03         0.430458    0.471791    0.441605    0.460866  0.198159   \n",
       "satis04         0.494192    0.508628    0.472635    0.628003  0.295438   \n",
       "\n",
       "              peruse02  peruse03  peruse04   satis01   satis02   satis03  \\\n",
       "attitude1_01  0.593120  0.622239  0.591388  0.569608  0.549134  0.483329   \n",
       "attitude1_02  0.547582  0.615780  0.551287  0.513672  0.517255  0.466889   \n",
       "attitude1_03  0.483051  0.544584  0.511677  0.519945  0.545646  0.463918   \n",
       "attitude1_04  0.492102  0.537477  0.495368  0.515158  0.518164  0.423812   \n",
       "intent1_01    0.529681  0.595103  0.488655  0.545688  0.500534  0.430458   \n",
       "intent1_02    0.489604  0.584902  0.478759  0.518394  0.505258  0.471791   \n",
       "intent1_03    0.552217  0.581282  0.513861  0.529800  0.466569  0.441605   \n",
       "intent1_04    0.521588  0.544137  0.491533  0.590820  0.555600  0.460866   \n",
       "peruse01      0.746810  0.753397  0.683090  0.399931  0.321710  0.198159   \n",
       "peruse02      1.000000  0.732724  0.728517  0.483252  0.423262  0.287002   \n",
       "peruse03      0.732724  1.000000  0.813831  0.511723  0.458772  0.338411   \n",
       "peruse04      0.728517  0.813831  1.000000  0.493265  0.403085  0.321003   \n",
       "satis01       0.483252  0.511723  0.493265  1.000000  0.870708  0.732622   \n",
       "satis02       0.423262  0.458772  0.403085  0.870708  1.000000  0.791641   \n",
       "satis03       0.287002  0.338411  0.321003  0.732622  0.791641  1.000000   \n",
       "satis04       0.391069  0.429421  0.368035  0.774980  0.768704  0.706080   \n",
       "\n",
       "               satis04  \n",
       "attitude1_01  0.515116  \n",
       "attitude1_02  0.523213  \n",
       "attitude1_03  0.539753  \n",
       "attitude1_04  0.478193  \n",
       "intent1_01    0.494192  \n",
       "intent1_02    0.508628  \n",
       "intent1_03    0.472635  \n",
       "intent1_04    0.628003  \n",
       "peruse01      0.295438  \n",
       "peruse02      0.391069  \n",
       "peruse03      0.429421  \n",
       "peruse04      0.368035  \n",
       "satis01       0.774980  \n",
       "satis02       0.768704  \n",
       "satis03       0.706080  \n",
       "satis04       1.000000  "
      ]
     },
     "execution_count": 140,
     "metadata": {},
     "output_type": "execute_result"
    }
   ],
   "source": [
    "e_df.corr()"
   ]
  },
  {
   "cell_type": "code",
   "execution_count": 142,
   "id": "d475298e-fd1a-44f2-9ace-261370861cbd",
   "metadata": {},
   "outputs": [
    {
     "data": {
      "text/plain": [
       "PearsonRResult(statistic=0.6663562202246993, pvalue=3.6154224826027544e-27)"
      ]
     },
     "execution_count": 142,
     "metadata": {},
     "output_type": "execute_result"
    }
   ],
   "source": [
    "pearsonr(e_df.attitude1_01, e_df.intent1_01)"
   ]
  },
  {
   "cell_type": "code",
   "execution_count": 144,
   "id": "330889d7-8690-42a4-819a-d1bafec563fc",
   "metadata": {},
   "outputs": [
    {
     "data": {
      "text/plain": [
       "PearsonRResult(statistic=0.519098567478697, pvalue=2.9068684515866345e-15)"
      ]
     },
     "execution_count": 144,
     "metadata": {},
     "output_type": "execute_result"
    }
   ],
   "source": [
    "pearsonr(e_df.attitude1_03, e_df.intent1_01)"
   ]
  },
  {
   "cell_type": "code",
   "execution_count": 146,
   "id": "5bc4a8f4-9daa-4117-9d86-f3fb94d483ee",
   "metadata": {},
   "outputs": [
    {
     "data": {
      "text/plain": [
       "PearsonRResult(statistic=0.5666422098085826, pvalue=1.8194427998723153e-18)"
      ]
     },
     "execution_count": 146,
     "metadata": {},
     "output_type": "execute_result"
    }
   ],
   "source": [
    "pearsonr(e_df.peruse01, e_df.intent1_01)"
   ]
  },
  {
   "cell_type": "code",
   "execution_count": 148,
   "id": "27ad2ca4-8ee8-408f-8089-1b35df98f50d",
   "metadata": {},
   "outputs": [
    {
     "data": {
      "text/plain": [
       "PearsonRResult(statistic=0.545688440252472, pvalue=5.425059701904438e-17)"
      ]
     },
     "execution_count": 148,
     "metadata": {},
     "output_type": "execute_result"
    }
   ],
   "source": [
    "pearsonr(e_df.satis01, e_df.intent1_01)"
   ]
  },
  {
   "cell_type": "code",
   "execution_count": 150,
   "id": "bf68c40d-1131-462f-9edd-9f1827ed1eae",
   "metadata": {},
   "outputs": [
    {
     "data": {
      "text/plain": [
       "PearsonRResult(statistic=0.43045817597531016, pvalue=1.7930038068496418e-10)"
      ]
     },
     "execution_count": 150,
     "metadata": {},
     "output_type": "execute_result"
    }
   ],
   "source": [
    "pearsonr(e_df.satis03, e_df.intent1_01)"
   ]
  },
  {
   "cell_type": "markdown",
   "id": "9925db9a-c20f-486c-84e0-50591b868fa3",
   "metadata": {},
   "source": [
    "All the PearsonR results are showing correlation coefficient around 0.5 and with low P-value.\n",
    "This means there was a statistically significant, moderately positive correlation between the\n",
    "variables to \"intent1_01\". "
   ]
  },
  {
   "cell_type": "markdown",
   "id": "89b1b2e4-9ccd-4c81-937e-2fab76b83109",
   "metadata": {},
   "source": [
    "### Homoscedasticity"
   ]
  },
  {
   "cell_type": "code",
   "execution_count": 154,
   "id": "a192f66d-9e2a-4886-af18-1e4186da1e2f",
   "metadata": {},
   "outputs": [
    {
     "data": {
      "image/png": "[encoded data removed]",
      "text/plain": [
       "<Figure size 640x480 with 1 Axes>"
      ]
     },
     "metadata": {},
     "output_type": "display_data"
    }
   ],
   "source": [
    "plt.scatter(ect_reg.fittedvalues, ect_reg.resid)\n",
    "plt.xlabel('Predicted/Fitted Values')\n",
    "plt.ylabel('Residual Values')\n",
    "plt.title('Assessing Homoscedasticity')\n",
    "plt.plot([-40, 120],[0, 0], 'red', lw=2)   # add red horizontal line\n",
    "plt.show()"
   ]
  },
  {
   "cell_type": "markdown",
   "id": "933077d3-f654-457c-ba15-7153e8c81008",
   "metadata": {},
   "source": [
    "The residual points are roughly constant across all predicted values with a few outliers. There is no funnel shape. Meaning it meets the homoscedasticity assumption."
   ]
  },
  {
   "cell_type": "markdown",
   "id": "85a1a615-e7ac-416a-ba2c-23f74164accc",
   "metadata": {},
   "source": [
    "### Independence"
   ]
  },
  {
   "cell_type": "code",
   "execution_count": 158,
   "id": "06a03771-f521-4d6f-81dd-be1b6817e777",
   "metadata": {},
   "outputs": [
    {
     "data": {
      "text/html": [
       "<table class=\"simpletable\">\n",
       "<caption>OLS Regression Results</caption>\n",
       "<tr>\n",
       "  <th>Dep. Variable:</th>       <td>intent1_01</td>    <th>  R-squared:         </th> <td>   0.528</td>\n",
       "</tr>\n",
       "<tr>\n",
       "  <th>Model:</th>                   <td>OLS</td>       <th>  Adj. R-squared:    </th> <td>   0.516</td>\n",
       "</tr>\n",
       "<tr>\n",
       "  <th>Method:</th>             <td>Least Squares</td>  <th>  F-statistic:       </th> <td>   43.65</td>\n",
       "</tr>\n",
       "<tr>\n",
       "  <th>Date:</th>             <td>Sat, 26 Apr 2025</td> <th>  Prob (F-statistic):</th> <td>4.54e-30</td>\n",
       "</tr>\n",
       "<tr>\n",
       "  <th>Time:</th>                 <td>16:48:42</td>     <th>  Log-Likelihood:    </th> <td> -213.19</td>\n",
       "</tr>\n",
       "<tr>\n",
       "  <th>No. Observations:</th>      <td>   201</td>      <th>  AIC:               </th> <td>   438.4</td>\n",
       "</tr>\n",
       "<tr>\n",
       "  <th>Df Residuals:</th>          <td>   195</td>      <th>  BIC:               </th> <td>   458.2</td>\n",
       "</tr>\n",
       "<tr>\n",
       "  <th>Df Model:</th>              <td>     5</td>      <th>                     </th>     <td> </td>   \n",
       "</tr>\n",
       "<tr>\n",
       "  <th>Covariance Type:</th>      <td>nonrobust</td>    <th>                     </th>     <td> </td>   \n",
       "</tr>\n",
       "</table>\n",
       "<table class=\"simpletable\">\n",
       "<tr>\n",
       "        <td></td>          <th>coef</th>     <th>std err</th>      <th>t</th>      <th>P>|t|</th>  <th>[0.025</th>    <th>0.975]</th>  \n",
       "</tr>\n",
       "<tr>\n",
       "  <th>Intercept</th>    <td>    1.0098</td> <td>    0.359</td> <td>    2.810</td> <td> 0.005</td> <td>    0.301</td> <td>    1.719</td>\n",
       "</tr>\n",
       "<tr>\n",
       "  <th>attitude1_01</th> <td>    0.4326</td> <td>    0.092</td> <td>    4.701</td> <td> 0.000</td> <td>    0.251</td> <td>    0.614</td>\n",
       "</tr>\n",
       "<tr>\n",
       "  <th>attitude1_03</th> <td>   -0.0186</td> <td>    0.072</td> <td>   -0.259</td> <td> 0.796</td> <td>   -0.161</td> <td>    0.124</td>\n",
       "</tr>\n",
       "<tr>\n",
       "  <th>peruse01</th>     <td>    0.2496</td> <td>    0.059</td> <td>    4.224</td> <td> 0.000</td> <td>    0.133</td> <td>    0.366</td>\n",
       "</tr>\n",
       "<tr>\n",
       "  <th>satis01</th>      <td>    0.1598</td> <td>    0.073</td> <td>    2.194</td> <td> 0.029</td> <td>    0.016</td> <td>    0.303</td>\n",
       "</tr>\n",
       "<tr>\n",
       "  <th>satis03</th>      <td>    0.0564</td> <td>    0.063</td> <td>    0.891</td> <td> 0.374</td> <td>   -0.068</td> <td>    0.181</td>\n",
       "</tr>\n",
       "</table>\n",
       "<table class=\"simpletable\">\n",
       "<tr>\n",
       "  <th>Omnibus:</th>       <td>55.301</td> <th>  Durbin-Watson:     </th> <td>   1.920</td>\n",
       "</tr>\n",
       "<tr>\n",
       "  <th>Prob(Omnibus):</th> <td> 0.000</td> <th>  Jarque-Bera (JB):  </th> <td> 250.597</td>\n",
       "</tr>\n",
       "<tr>\n",
       "  <th>Skew:</th>          <td>-0.969</td> <th>  Prob(JB):          </th> <td>3.83e-55</td>\n",
       "</tr>\n",
       "<tr>\n",
       "  <th>Kurtosis:</th>      <td> 8.116</td> <th>  Cond. No.          </th> <td>    94.2</td>\n",
       "</tr>\n",
       "</table><br/><br/>Notes:<br/>[1] Standard Errors assume that the covariance matrix of the errors is correctly specified."
      ],
      "text/latex": [
       "\\begin{center}\n",
       "\\begin{tabular}{lclc}\n",
       "\\toprule\n",
       "\\textbf{Dep. Variable:}    &   intent1\\_01    & \\textbf{  R-squared:         } &     0.528   \\\\\n",
       "\\textbf{Model:}            &       OLS        & \\textbf{  Adj. R-squared:    } &     0.516   \\\\\n",
       "\\textbf{Method:}           &  Least Squares   & \\textbf{  F-statistic:       } &     43.65   \\\\\n",
       "\\textbf{Date:}             & Sat, 26 Apr 2025 & \\textbf{  Prob (F-statistic):} &  4.54e-30   \\\\\n",
       "\\textbf{Time:}             &     16:48:42     & \\textbf{  Log-Likelihood:    } &   -213.19   \\\\\n",
       "\\textbf{No. Observations:} &         201      & \\textbf{  AIC:               } &     438.4   \\\\\n",
       "\\textbf{Df Residuals:}     &         195      & \\textbf{  BIC:               } &     458.2   \\\\\n",
       "\\textbf{Df Model:}         &           5      & \\textbf{                     } &             \\\\\n",
       "\\textbf{Covariance Type:}  &    nonrobust     & \\textbf{                     } &             \\\\\n",
       "\\bottomrule\n",
       "\\end{tabular}\n",
       "\\begin{tabular}{lcccccc}\n",
       "                       & \\textbf{coef} & \\textbf{std err} & \\textbf{t} & \\textbf{P$> |$t$|$} & \\textbf{[0.025} & \\textbf{0.975]}  \\\\\n",
       "\\midrule\n",
       "\\textbf{Intercept}     &       1.0098  &        0.359     &     2.810  &         0.005        &        0.301    &        1.719     \\\\\n",
       "\\textbf{attitude1\\_01} &       0.4326  &        0.092     &     4.701  &         0.000        &        0.251    &        0.614     \\\\\n",
       "\\textbf{attitude1\\_03} &      -0.0186  &        0.072     &    -0.259  &         0.796        &       -0.161    &        0.124     \\\\\n",
       "\\textbf{peruse01}      &       0.2496  &        0.059     &     4.224  &         0.000        &        0.133    &        0.366     \\\\\n",
       "\\textbf{satis01}       &       0.1598  &        0.073     &     2.194  &         0.029        &        0.016    &        0.303     \\\\\n",
       "\\textbf{satis03}       &       0.0564  &        0.063     &     0.891  &         0.374        &       -0.068    &        0.181     \\\\\n",
       "\\bottomrule\n",
       "\\end{tabular}\n",
       "\\begin{tabular}{lclc}\n",
       "\\textbf{Omnibus:}       & 55.301 & \\textbf{  Durbin-Watson:     } &    1.920  \\\\\n",
       "\\textbf{Prob(Omnibus):} &  0.000 & \\textbf{  Jarque-Bera (JB):  } &  250.597  \\\\\n",
       "\\textbf{Skew:}          & -0.969 & \\textbf{  Prob(JB):          } & 3.83e-55  \\\\\n",
       "\\textbf{Kurtosis:}      &  8.116 & \\textbf{  Cond. No.          } &     94.2  \\\\\n",
       "\\bottomrule\n",
       "\\end{tabular}\n",
       "%\\caption{OLS Regression Results}\n",
       "\\end{center}\n",
       "\n",
       "Notes: \\newline\n",
       " [1] Standard Errors assume that the covariance matrix of the errors is correctly specified."
      ],
      "text/plain": [
       "<class 'statsmodels.iolib.summary.Summary'>\n",
       "\"\"\"\n",
       "                            OLS Regression Results                            \n",
       "==============================================================================\n",
       "Dep. Variable:             intent1_01   R-squared:                       0.528\n",
       "Model:                            OLS   Adj. R-squared:                  0.516\n",
       "Method:                 Least Squares   F-statistic:                     43.65\n",
       "Date:                Sat, 26 Apr 2025   Prob (F-statistic):           4.54e-30\n",
       "Time:                        16:48:42   Log-Likelihood:                -213.19\n",
       "No. Observations:                 201   AIC:                             438.4\n",
       "Df Residuals:                     195   BIC:                             458.2\n",
       "Df Model:                           5                                         \n",
       "Covariance Type:            nonrobust                                         \n",
       "================================================================================\n",
       "                   coef    std err          t      P>|t|      [0.025      0.975]\n",
       "--------------------------------------------------------------------------------\n",
       "Intercept        1.0098      0.359      2.810      0.005       0.301       1.719\n",
       "attitude1_01     0.4326      0.092      4.701      0.000       0.251       0.614\n",
       "attitude1_03    -0.0186      0.072     -0.259      0.796      -0.161       0.124\n",
       "peruse01         0.2496      0.059      4.224      0.000       0.133       0.366\n",
       "satis01          0.1598      0.073      2.194      0.029       0.016       0.303\n",
       "satis03          0.0564      0.063      0.891      0.374      -0.068       0.181\n",
       "==============================================================================\n",
       "Omnibus:                       55.301   Durbin-Watson:                   1.920\n",
       "Prob(Omnibus):                  0.000   Jarque-Bera (JB):              250.597\n",
       "Skew:                          -0.969   Prob(JB):                     3.83e-55\n",
       "Kurtosis:                       8.116   Cond. No.                         94.2\n",
       "==============================================================================\n",
       "\n",
       "Notes:\n",
       "[1] Standard Errors assume that the covariance matrix of the errors is correctly specified.\n",
       "\"\"\""
      ]
     },
     "execution_count": 158,
     "metadata": {},
     "output_type": "execute_result"
    }
   ],
   "source": [
    "ect_reg.summary()"
   ]
  },
  {
   "cell_type": "markdown",
   "id": "88a19ab2-dc4e-4a18-a10b-11da0955bc61",
   "metadata": {},
   "source": [
    "The value of Durbin-Watson is 1.92 showing there is no autocorrelation so no evidence of serial correlation in the residuals. This validate the independence assumption."
   ]
  },
  {
   "cell_type": "markdown",
   "id": "770db30b-4f18-4b96-91c8-5100bd2ab073",
   "metadata": {},
   "source": [
    "### Normality"
   ]
  },
  {
   "cell_type": "code",
   "execution_count": 162,
   "id": "5c159903-781e-44b9-aac4-871b5134f5ba",
   "metadata": {},
   "outputs": [
    {
     "data": {
      "text/plain": [
       "((array([-2.70235077, -2.39300644, -2.21670641, -2.09047253, -1.99075721,\n",
       "         -1.90762425, -1.83590295, -1.77254445, -1.71559368, -1.66371874,\n",
       "         -1.61596971, -1.57164427, -1.53020786, -1.49124379, -1.45442067,\n",
       "         -1.41947039, -1.38617282, -1.35434495, -1.32383285, -1.29450578,\n",
       "         -1.26625169, -1.2389738 , -1.21258791, -1.18702027, -1.1622059 ,\n",
       "         -1.13808725, -1.11461308, -1.09173755, -1.06941949, -1.04762177,\n",
       "         -1.02631079, -1.005456  , -0.98502958, -0.96500611, -0.94536226,\n",
       "         -0.92607659, -0.90712937, -0.88850233, -0.87017859, -0.85214246,\n",
       "         -0.83437937, -0.81687572, -0.79961884, -0.78259687, -0.76579869,\n",
       "         -0.74921388, -0.73283263, -0.71664571, -0.70064443, -0.68482057,\n",
       "         -0.66916635, -0.65367443, -0.63833783, -0.62314992, -0.60810442,\n",
       "         -0.59319534, -0.57841696, -0.56376385, -0.5492308 , -0.53481284,\n",
       "         -0.52050522, -0.50630336, -0.49220289, -0.47819962, -0.4642895 ,\n",
       "         -0.45046865, -0.43673331, -0.42307988, -0.40950487, -0.39600491,\n",
       "         -0.38257674, -0.3692172 , -0.35592325, -0.3426919 , -0.32952028,\n",
       "         -0.31640558, -0.30334508, -0.29033612, -0.27737611, -0.26446253,\n",
       "         -0.2515929 , -0.23876481, -0.22597589, -0.21322383, -0.20050634,\n",
       "         -0.18782121, -0.17516622, -0.16253923, -0.1499381 , -0.13736074,\n",
       "         -0.12480507, -0.11226904, -0.09975064, -0.08724784, -0.07475867,\n",
       "         -0.06228115, -0.04981332, -0.03735323, -0.02489894, -0.0124485 ,\n",
       "          0.        ,  0.0124485 ,  0.02489894,  0.03735323,  0.04981332,\n",
       "          0.06228115,  0.07475867,  0.08724784,  0.09975064,  0.11226904,\n",
       "          0.12480507,  0.13736074,  0.1499381 ,  0.16253923,  0.17516622,\n",
       "          0.18782121,  0.20050634,  0.21322383,  0.22597589,  0.23876481,\n",
       "          0.2515929 ,  0.26446253,  0.27737611,  0.29033612,  0.30334508,\n",
       "          0.31640558,  0.32952028,  0.3426919 ,  0.35592325,  0.3692172 ,\n",
       "          0.38257674,  0.39600491,  0.40950487,  0.42307988,  0.43673331,\n",
       "          0.45046865,  0.4642895 ,  0.47819962,  0.49220289,  0.50630336,\n",
       "          0.52050522,  0.53481284,  0.5492308 ,  0.56376385,  0.57841696,\n",
       "          0.59319534,  0.60810442,  0.62314992,  0.63833783,  0.65367443,\n",
       "          0.66916635,  0.68482057,  0.70064443,  0.71664571,  0.73283263,\n",
       "          0.74921388,  0.76579869,  0.78259687,  0.79961884,  0.81687572,\n",
       "          0.83437937,  0.85214246,  0.87017859,  0.88850233,  0.90712937,\n",
       "          0.92607659,  0.94536226,  0.96500611,  0.98502958,  1.005456  ,\n",
       "          1.02631079,  1.04762177,  1.06941949,  1.09173755,  1.11461308,\n",
       "          1.13808725,  1.1622059 ,  1.18702027,  1.21258791,  1.2389738 ,\n",
       "          1.26625169,  1.29450578,  1.32383285,  1.35434495,  1.38617282,\n",
       "          1.41947039,  1.45442067,  1.49124379,  1.53020786,  1.57164427,\n",
       "          1.61596971,  1.66371874,  1.71559368,  1.77254445,  1.83590295,\n",
       "          1.90762425,  1.99075721,  2.09047253,  2.21670641,  2.39300644,\n",
       "          2.70235077]),\n",
       "  array([-3.94277809e+00, -2.40859570e+00, -1.70231198e+00, -1.60632671e+00,\n",
       "         -1.48609365e+00, -1.42334415e+00, -1.35220930e+00, -1.27922948e+00,\n",
       "         -1.19237738e+00, -1.19237738e+00, -1.18601428e+00, -1.12853072e+00,\n",
       "         -1.03876336e+00, -1.03876336e+00, -1.01575792e+00, -9.51911260e-01,\n",
       "         -9.30944907e-01, -8.93191022e-01, -8.74558509e-01, -8.22545035e-01,\n",
       "         -8.22545035e-01, -8.22545035e-01, -8.13411869e-01, -7.92079334e-01,\n",
       "         -7.78428047e-01, -7.54180253e-01, -7.01823118e-01, -6.91575948e-01,\n",
       "         -6.76827501e-01, -6.68931015e-01, -6.58194988e-01, -5.16995575e-01,\n",
       "         -5.02247128e-01, -4.86093651e-01, -4.71345204e-01, -4.27228217e-01,\n",
       "         -3.52209305e-01, -3.25627671e-01, -3.14455420e-01, -3.06995157e-01,\n",
       "         -3.06995157e-01, -2.88362644e-01, -2.88362644e-01, -2.50608759e-01,\n",
       "         -2.50608759e-01, -2.50608759e-01, -2.31976246e-01, -2.31976246e-01,\n",
       "         -2.31976246e-01, -2.31976246e-01, -2.19900938e-01, -2.13343732e-01,\n",
       "         -2.11009892e-01, -2.05394611e-01, -1.96750303e-01, -1.86762098e-01,\n",
       "         -1.86762098e-01, -1.86762098e-01, -1.68129584e-01, -1.68129584e-01,\n",
       "         -1.68129584e-01, -1.68129584e-01, -1.68129584e-01, -1.68129584e-01,\n",
       "         -1.68129584e-01, -1.68129584e-01, -1.68129584e-01, -1.68129584e-01,\n",
       "         -1.68129584e-01, -1.68129584e-01, -1.68129584e-01, -1.68129584e-01,\n",
       "         -1.68129584e-01, -1.68129584e-01, -1.68129584e-01, -1.68129584e-01,\n",
       "         -1.58996419e-01, -1.47163231e-01, -1.28530718e-01, -1.28530718e-01,\n",
       "         -1.28530718e-01, -1.11743186e-01, -1.11743186e-01, -1.09898204e-01,\n",
       "         -9.07768330e-02, -9.07768330e-02, -9.07768330e-02, -7.60283861e-02,\n",
       "         -7.21443195e-02, -7.21443195e-02, -7.21443195e-02, -7.21443195e-02,\n",
       "         -5.73958727e-02, -3.87633592e-02, -8.29765844e-03, -1.00947439e-03,\n",
       "          5.35362850e-03,  2.94562263e-02,  2.94562263e-02,  2.94562263e-02,\n",
       "          4.60496551e-02,  4.80887398e-02,  4.80887398e-02,  4.80887398e-02,\n",
       "          4.80887398e-02,  4.80887398e-02,  4.80887398e-02,  4.80887398e-02,\n",
       "          4.80887398e-02,  4.80887398e-02,  6.28371867e-02,  6.28371867e-02,\n",
       "          6.46821686e-02,  8.14697002e-02,  8.14697002e-02,  8.14697002e-02,\n",
       "          8.14697002e-02,  8.14697002e-02,  8.14697002e-02,  8.58426246e-02,\n",
       "          8.58426246e-02,  1.02436053e-01,  1.04475138e-01,  1.10693044e-01,\n",
       "          1.21068567e-01,  1.25586688e-01,  1.25586688e-01,  1.42229023e-01,\n",
       "          1.58822452e-01,  1.58822452e-01,  1.65185555e-01,  1.77454965e-01,\n",
       "          2.00605600e-01,  2.07920666e-01,  2.08409524e-01,  2.15208850e-01,\n",
       "          2.41301626e-01,  2.45674551e-01,  2.45674551e-01,  2.64307064e-01,\n",
       "          2.64307064e-01,  2.64307064e-01,  2.76113369e-01,  2.79055511e-01,\n",
       "          2.79055511e-01,  2.97688024e-01,  2.97688024e-01,  2.97688024e-01,\n",
       "          2.97688024e-01,  3.06384967e-01,  3.13233200e-01,  3.23172499e-01,\n",
       "          3.31068985e-01,  3.31068985e-01,  3.56553459e-01,  3.93673289e-01,\n",
       "          4.05651673e-01,  4.31572371e-01,  4.57519951e-01,  4.57519951e-01,\n",
       "          4.58008808e-01,  4.62038072e-01,  4.80670585e-01,  4.89852657e-01,\n",
       "          4.94321872e-01,  5.39536020e-01,  5.63880738e-01,  5.76655850e-01,\n",
       "          6.29158182e-01,  6.40846172e-01,  6.55250958e-01,  6.93004843e-01,\n",
       "          7.11637356e-01,  7.11637356e-01,  7.11637356e-01,  7.30269870e-01,\n",
       "          7.45018317e-01,  7.53764165e-01,  7.68023754e-01,  7.82772201e-01,\n",
       "          8.33570201e-01,  8.71469282e-01,  8.75987403e-01,  9.27855680e-01,\n",
       "          9.27855680e-01,  9.42604127e-01,  9.42604127e-01,  9.71972668e-01,\n",
       "          9.72214789e-01,  1.00535363e+00,  1.00739271e+00,  1.04062848e+00,\n",
       "          1.12106857e+00,  1.22888702e+00,  1.23384136e+00,  1.25699200e+00,\n",
       "          1.28381575e+00,  1.35825324e+00,  1.63289705e+00,  1.74341546e+00,\n",
       "          2.13180459e+00])),\n",
       " (0.6780239220310034, 1.9808801951981962e-14, 0.9593986986353596))"
      ]
     },
     "execution_count": 162,
     "metadata": {},
     "output_type": "execute_result"
    },
    {
     "data": {
      "image/png": "[encoded data removed]",
      "text/plain": [
       "<Figure size 640x480 with 1 Axes>"
      ]
     },
     "metadata": {},
     "output_type": "display_data"
    }
   ],
   "source": [
    "sts.probplot(ect_reg.resid, dist=\"norm\", plot=plt)"
   ]
  },
  {
   "cell_type": "markdown",
   "id": "23b41487-c30d-4e10-8f02-a27a98eff02f",
   "metadata": {},
   "source": [
    "From the QQ_plot, the residuals are mostly normally distributed because the points are close\n",
    "to the normal distribution line. "
   ]
  },
  {
   "cell_type": "markdown",
   "id": "fe39c902-e676-43ec-87a7-9469e083ae97",
   "metadata": {},
   "source": [
    "### Assessing model's F-test and T-tests"
   ]
  },
  {
   "cell_type": "code",
   "execution_count": 166,
   "id": "fcc97708-e733-4259-b9a7-179ff43c9aa6",
   "metadata": {},
   "outputs": [
    {
     "data": {
      "text/html": [
       "<table class=\"simpletable\">\n",
       "<caption>OLS Regression Results</caption>\n",
       "<tr>\n",
       "  <th>Dep. Variable:</th>       <td>intent1_01</td>    <th>  R-squared:         </th> <td>   0.528</td>\n",
       "</tr>\n",
       "<tr>\n",
       "  <th>Model:</th>                   <td>OLS</td>       <th>  Adj. R-squared:    </th> <td>   0.516</td>\n",
       "</tr>\n",
       "<tr>\n",
       "  <th>Method:</th>             <td>Least Squares</td>  <th>  F-statistic:       </th> <td>   43.65</td>\n",
       "</tr>\n",
       "<tr>\n",
       "  <th>Date:</th>             <td>Sat, 26 Apr 2025</td> <th>  Prob (F-statistic):</th> <td>4.54e-30</td>\n",
       "</tr>\n",
       "<tr>\n",
       "  <th>Time:</th>                 <td>16:48:45</td>     <th>  Log-Likelihood:    </th> <td> -213.19</td>\n",
       "</tr>\n",
       "<tr>\n",
       "  <th>No. Observations:</th>      <td>   201</td>      <th>  AIC:               </th> <td>   438.4</td>\n",
       "</tr>\n",
       "<tr>\n",
       "  <th>Df Residuals:</th>          <td>   195</td>      <th>  BIC:               </th> <td>   458.2</td>\n",
       "</tr>\n",
       "<tr>\n",
       "  <th>Df Model:</th>              <td>     5</td>      <th>                     </th>     <td> </td>   \n",
       "</tr>\n",
       "<tr>\n",
       "  <th>Covariance Type:</th>      <td>nonrobust</td>    <th>                     </th>     <td> </td>   \n",
       "</tr>\n",
       "</table>\n",
       "<table class=\"simpletable\">\n",
       "<tr>\n",
       "        <td></td>          <th>coef</th>     <th>std err</th>      <th>t</th>      <th>P>|t|</th>  <th>[0.025</th>    <th>0.975]</th>  \n",
       "</tr>\n",
       "<tr>\n",
       "  <th>Intercept</th>    <td>    1.0098</td> <td>    0.359</td> <td>    2.810</td> <td> 0.005</td> <td>    0.301</td> <td>    1.719</td>\n",
       "</tr>\n",
       "<tr>\n",
       "  <th>attitude1_01</th> <td>    0.4326</td> <td>    0.092</td> <td>    4.701</td> <td> 0.000</td> <td>    0.251</td> <td>    0.614</td>\n",
       "</tr>\n",
       "<tr>\n",
       "  <th>attitude1_03</th> <td>   -0.0186</td> <td>    0.072</td> <td>   -0.259</td> <td> 0.796</td> <td>   -0.161</td> <td>    0.124</td>\n",
       "</tr>\n",
       "<tr>\n",
       "  <th>peruse01</th>     <td>    0.2496</td> <td>    0.059</td> <td>    4.224</td> <td> 0.000</td> <td>    0.133</td> <td>    0.366</td>\n",
       "</tr>\n",
       "<tr>\n",
       "  <th>satis01</th>      <td>    0.1598</td> <td>    0.073</td> <td>    2.194</td> <td> 0.029</td> <td>    0.016</td> <td>    0.303</td>\n",
       "</tr>\n",
       "<tr>\n",
       "  <th>satis03</th>      <td>    0.0564</td> <td>    0.063</td> <td>    0.891</td> <td> 0.374</td> <td>   -0.068</td> <td>    0.181</td>\n",
       "</tr>\n",
       "</table>\n",
       "<table class=\"simpletable\">\n",
       "<tr>\n",
       "  <th>Omnibus:</th>       <td>55.301</td> <th>  Durbin-Watson:     </th> <td>   1.920</td>\n",
       "</tr>\n",
       "<tr>\n",
       "  <th>Prob(Omnibus):</th> <td> 0.000</td> <th>  Jarque-Bera (JB):  </th> <td> 250.597</td>\n",
       "</tr>\n",
       "<tr>\n",
       "  <th>Skew:</th>          <td>-0.969</td> <th>  Prob(JB):          </th> <td>3.83e-55</td>\n",
       "</tr>\n",
       "<tr>\n",
       "  <th>Kurtosis:</th>      <td> 8.116</td> <th>  Cond. No.          </th> <td>    94.2</td>\n",
       "</tr>\n",
       "</table><br/><br/>Notes:<br/>[1] Standard Errors assume that the covariance matrix of the errors is correctly specified."
      ],
      "text/latex": [
       "\\begin{center}\n",
       "\\begin{tabular}{lclc}\n",
       "\\toprule\n",
       "\\textbf{Dep. Variable:}    &   intent1\\_01    & \\textbf{  R-squared:         } &     0.528   \\\\\n",
       "\\textbf{Model:}            &       OLS        & \\textbf{  Adj. R-squared:    } &     0.516   \\\\\n",
       "\\textbf{Method:}           &  Least Squares   & \\textbf{  F-statistic:       } &     43.65   \\\\\n",
       "\\textbf{Date:}             & Sat, 26 Apr 2025 & \\textbf{  Prob (F-statistic):} &  4.54e-30   \\\\\n",
       "\\textbf{Time:}             &     16:48:45     & \\textbf{  Log-Likelihood:    } &   -213.19   \\\\\n",
       "\\textbf{No. Observations:} &         201      & \\textbf{  AIC:               } &     438.4   \\\\\n",
       "\\textbf{Df Residuals:}     &         195      & \\textbf{  BIC:               } &     458.2   \\\\\n",
       "\\textbf{Df Model:}         &           5      & \\textbf{                     } &             \\\\\n",
       "\\textbf{Covariance Type:}  &    nonrobust     & \\textbf{                     } &             \\\\\n",
       "\\bottomrule\n",
       "\\end{tabular}\n",
       "\\begin{tabular}{lcccccc}\n",
       "                       & \\textbf{coef} & \\textbf{std err} & \\textbf{t} & \\textbf{P$> |$t$|$} & \\textbf{[0.025} & \\textbf{0.975]}  \\\\\n",
       "\\midrule\n",
       "\\textbf{Intercept}     &       1.0098  &        0.359     &     2.810  &         0.005        &        0.301    &        1.719     \\\\\n",
       "\\textbf{attitude1\\_01} &       0.4326  &        0.092     &     4.701  &         0.000        &        0.251    &        0.614     \\\\\n",
       "\\textbf{attitude1\\_03} &      -0.0186  &        0.072     &    -0.259  &         0.796        &       -0.161    &        0.124     \\\\\n",
       "\\textbf{peruse01}      &       0.2496  &        0.059     &     4.224  &         0.000        &        0.133    &        0.366     \\\\\n",
       "\\textbf{satis01}       &       0.1598  &        0.073     &     2.194  &         0.029        &        0.016    &        0.303     \\\\\n",
       "\\textbf{satis03}       &       0.0564  &        0.063     &     0.891  &         0.374        &       -0.068    &        0.181     \\\\\n",
       "\\bottomrule\n",
       "\\end{tabular}\n",
       "\\begin{tabular}{lclc}\n",
       "\\textbf{Omnibus:}       & 55.301 & \\textbf{  Durbin-Watson:     } &    1.920  \\\\\n",
       "\\textbf{Prob(Omnibus):} &  0.000 & \\textbf{  Jarque-Bera (JB):  } &  250.597  \\\\\n",
       "\\textbf{Skew:}          & -0.969 & \\textbf{  Prob(JB):          } & 3.83e-55  \\\\\n",
       "\\textbf{Kurtosis:}      &  8.116 & \\textbf{  Cond. No.          } &     94.2  \\\\\n",
       "\\bottomrule\n",
       "\\end{tabular}\n",
       "%\\caption{OLS Regression Results}\n",
       "\\end{center}\n",
       "\n",
       "Notes: \\newline\n",
       " [1] Standard Errors assume that the covariance matrix of the errors is correctly specified."
      ],
      "text/plain": [
       "<class 'statsmodels.iolib.summary.Summary'>\n",
       "\"\"\"\n",
       "                            OLS Regression Results                            \n",
       "==============================================================================\n",
       "Dep. Variable:             intent1_01   R-squared:                       0.528\n",
       "Model:                            OLS   Adj. R-squared:                  0.516\n",
       "Method:                 Least Squares   F-statistic:                     43.65\n",
       "Date:                Sat, 26 Apr 2025   Prob (F-statistic):           4.54e-30\n",
       "Time:                        16:48:45   Log-Likelihood:                -213.19\n",
       "No. Observations:                 201   AIC:                             438.4\n",
       "Df Residuals:                     195   BIC:                             458.2\n",
       "Df Model:                           5                                         \n",
       "Covariance Type:            nonrobust                                         \n",
       "================================================================================\n",
       "                   coef    std err          t      P>|t|      [0.025      0.975]\n",
       "--------------------------------------------------------------------------------\n",
       "Intercept        1.0098      0.359      2.810      0.005       0.301       1.719\n",
       "attitude1_01     0.4326      0.092      4.701      0.000       0.251       0.614\n",
       "attitude1_03    -0.0186      0.072     -0.259      0.796      -0.161       0.124\n",
       "peruse01         0.2496      0.059      4.224      0.000       0.133       0.366\n",
       "satis01          0.1598      0.073      2.194      0.029       0.016       0.303\n",
       "satis03          0.0564      0.063      0.891      0.374      -0.068       0.181\n",
       "==============================================================================\n",
       "Omnibus:                       55.301   Durbin-Watson:                   1.920\n",
       "Prob(Omnibus):                  0.000   Jarque-Bera (JB):              250.597\n",
       "Skew:                          -0.969   Prob(JB):                     3.83e-55\n",
       "Kurtosis:                       8.116   Cond. No.                         94.2\n",
       "==============================================================================\n",
       "\n",
       "Notes:\n",
       "[1] Standard Errors assume that the covariance matrix of the errors is correctly specified.\n",
       "\"\"\""
      ]
     },
     "execution_count": 166,
     "metadata": {},
     "output_type": "execute_result"
    }
   ],
   "source": [
    "ect_reg.summary()  "
   ]
  },
  {
   "cell_type": "markdown",
   "id": "bcdbfe26-83f8-4e0a-92d0-5fe8b4be6e5f",
   "metadata": {},
   "source": [
    "peruse01 and attitude1_01 stood out. They have way larger t-values than other variables, 4.2 and 4.7. They also have a low p-value, meaning they are statistically significant. From a business perspective, the time that customers use per time and their attitude likely represent key indicators of customer behavior that should be considered when estimating customer intent."
   ]
  },
  {
   "cell_type": "markdown",
   "id": "ecc7aa45-2350-4539-bb37-66e2bc0f378b",
   "metadata": {},
   "source": [
    "### Equation"
   ]
  },
  {
   "cell_type": "markdown",
   "id": "45e60103-f8d6-4d4d-a65d-9b6325b21de0",
   "metadata": {},
   "source": [
    "> intent1_01 = 1 + 0.43 attitude1_01 - 0.02 attitude1_03 + 0.25 peruse01 + 0.16 satis01 + 0.06 satis03\n",
    "\n"
   ]
  },
  {
   "cell_type": "markdown",
   "id": "b9a85510-a06a-4784-ac0a-52a0ff8e2f2d",
   "metadata": {},
   "source": [
    "1. If attitude1_01 increases by 1, intent1_01 will increase by 0.43.\n",
    "1. If attitude1_03 increases by 1, intent1_01 will decrease by 0.02.\n",
    "1. If peruse01 increases by 1, intent1_01 will increase by 0.25.\n",
    "1. If satis01 increases by 1, intent1_01 will increase by 0.16.\n",
    "1. If satis03 increases by 1, intent1_01 will increase by 0.06."
   ]
  }
 ],
 "metadata": {
  "kernelspec": {
   "display_name": "Python [conda env:base] *",
   "language": "python",
   "name": "conda-base-py"
  },
  "language_info": {
   "codemirror_mode": {
    "name": "ipython",
    "version": 3
   },
   "file_extension": ".py",
   "mimetype": "text/x-python",
   "name": "python",
   "nbconvert_exporter": "python",
   "pygments_lexer": "ipython3",
   "version": "3.12.7"
  }
 },
 "nbformat": 4,
 "nbformat_minor": 5
}
